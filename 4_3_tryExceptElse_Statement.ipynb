{
  "nbformat": 4,
  "nbformat_minor": 0,
  "metadata": {
    "colab": {
      "provenance": [],
      "include_colab_link": true
    },
    "kernelspec": {
      "name": "python3",
      "display_name": "Python 3"
    },
    "language_info": {
      "name": "python"
    }
  },
  "cells": [
    {
      "cell_type": "markdown",
      "metadata": {
        "id": "view-in-github",
        "colab_type": "text"
      },
      "source": [
        "<a href=\"https://colab.research.google.com/github/hyojinjin/NLP_2023/blob/main/4_3_tryExceptElse_Statement.ipynb\" target=\"_parent\"><img src=\"https://colab.research.google.com/assets/colab-badge.svg\" alt=\"Open In Colab\"/></a>"
      ]
    },
    {
      "cell_type": "markdown",
      "source": [
        "## 🔨 try ~ except ~ else/finally\n",
        "---\n",
        "\n",
        "1. 프로그램을 작성 후 실행되는 동안 오류가 발생하면 프로그램은 더 이상 진행되지 않는다. 이 상황을 예외 (exeption) 상황이라고 한다.\n",
        "\n",
        "2. try: ~ exept:\n",
        "  - Exeption 이 있더라도 프로그램 중단 없이 예외에 대하여 적절히 처리하여 프로그램을 진행시킬 수 있도록 하는 구문\n",
        "\n",
        "3. try: ~ except: ~ else:\n",
        "  - 어떤 로직을 수행했을 때 오류 상황이 아닌 경우에만 어떤 작없을 수행하는 코드를 작성해야 할 때\n",
        "  - 예외 Exception 이 발행하면 else 부분은 수행되지 않음\n",
        "\n",
        "4. try: ~ except: ~ finally:\n",
        "  - 오류 발생과 상관없이 어떤 코드를 무조건 실행 시킬 때\n"
      ],
      "metadata": {
        "id": "3V3eF3-rqKDl"
      }
    },
    {
      "cell_type": "code",
      "source": [
        "try:\n",
        "  print('How are you?')\n",
        "  print(param)\n",
        "except:\n",
        "    print('Exception occurred')"
      ],
      "metadata": {
        "id": "Ycf2GgCW7ow0",
        "outputId": "c734ceb9-6d04-4543-cab5-6d589657247e",
        "colab": {
          "base_uri": "https://localhost:8080/"
        }
      },
      "execution_count": null,
      "outputs": [
        {
          "output_type": "stream",
          "name": "stdout",
          "text": [
            "How are you?\n",
            "Exception occurred\n"
          ]
        }
      ]
    },
    {
      "cell_type": "code",
      "source": [
        "try:\n",
        "  print(\"How are you?\")\n",
        "  print(param)\n",
        "except:\n",
        "  print(\"Exception occurred\")"
      ],
      "metadata": {
        "id": "oe3bA8UESmAB",
        "outputId": "aee5f4ef-1fec-49a8-b8d8-c855e81d0394",
        "colab": {
          "base_uri": "https://localhost:8080/"
        }
      },
      "execution_count": 1,
      "outputs": [
        {
          "output_type": "stream",
          "name": "stdout",
          "text": [
            "How are you?\n",
            "Exception occurred\n"
          ]
        }
      ]
    },
    {
      "cell_type": "code",
      "source": [
        "try:\n",
        "  print('How are you?')\n",
        "  print(param)\n",
        "except:\n",
        "  print('Exception occurred')"
      ],
      "metadata": {
        "id": "2tNMvSFPWTsx",
        "outputId": "b122860c-5346-4133-ee5e-f0098a32b7fb",
        "colab": {
          "base_uri": "https://localhost:8080/"
        }
      },
      "execution_count": null,
      "outputs": [
        {
          "output_type": "stream",
          "name": "stdout",
          "text": [
            "How are you?\n",
            "Exception occurred\n"
          ]
        }
      ]
    },
    {
      "cell_type": "code",
      "source": [
        "try:\n",
        "  print('How are you?')\n",
        "  print(param)\n",
        "except:\n",
        "  print('Exception occurred')"
      ],
      "metadata": {
        "id": "-F_f43v5RM1T",
        "outputId": "5c45418f-2daf-41c4-d817-dae9da1a24c2",
        "colab": {
          "base_uri": "https://localhost:8080/"
        }
      },
      "execution_count": null,
      "outputs": [
        {
          "output_type": "stream",
          "name": "stdout",
          "text": [
            "How are you?\n",
            "Exception occurred\n"
          ]
        }
      ]
    },
    {
      "cell_type": "code",
      "source": [
        "try:\n",
        "  print('How are you?')\n",
        "  print(param)\n",
        "except:\n",
        "  print('Exception occurred')\n"
      ],
      "metadata": {
        "id": "WpdL-yhtIzvd",
        "outputId": "5e2da3e5-4dde-4b0d-b7aa-7050246e89fd",
        "colab": {
          "base_uri": "https://localhost:8080/"
        }
      },
      "execution_count": null,
      "outputs": [
        {
          "output_type": "stream",
          "name": "stdout",
          "text": [
            "How are you?\n",
            "Exception occurred\n"
          ]
        }
      ]
    },
    {
      "cell_type": "code",
      "source": [
        "try:\n",
        "  print('How are you?')\n",
        "  print(param)\n",
        "except:\n",
        "  print('Exception occurred')"
      ],
      "metadata": {
        "id": "oCjcRIKpr09U",
        "outputId": "4d38bd62-fba6-4f23-c6d1-5f86fafd6fda",
        "colab": {
          "base_uri": "https://localhost:8080/"
        }
      },
      "execution_count": null,
      "outputs": [
        {
          "output_type": "stream",
          "name": "stdout",
          "text": [
            "How are you?\n",
            "Exception occurred\n"
          ]
        }
      ]
    },
    {
      "cell_type": "code",
      "source": [
        "try:\n",
        "  print('How are you?')\n",
        "  print(param)\n",
        "except:\n",
        "  print('Exception occurred')"
      ],
      "metadata": {
        "id": "mKutaoh6uVkE",
        "outputId": "b9200a1c-62ac-408d-949e-967c55afbada",
        "colab": {
          "base_uri": "https://localhost:8080/"
        }
      },
      "execution_count": null,
      "outputs": [
        {
          "output_type": "stream",
          "name": "stdout",
          "text": [
            "How are you?\n",
            "Exception occurred\n"
          ]
        }
      ]
    },
    {
      "cell_type": "code",
      "source": [
        "try:\n",
        "  print('How are you?')\n",
        "  print(param)\n",
        "except:\n",
        "  print('Exception occurred')\n"
      ],
      "metadata": {
        "id": "cJQz6wzWhDb4",
        "outputId": "867835de-427b-4f51-e4b1-badae846a7b2",
        "colab": {
          "base_uri": "https://localhost:8080/"
        }
      },
      "execution_count": null,
      "outputs": [
        {
          "output_type": "stream",
          "name": "stdout",
          "text": [
            "How are you?\n",
            "Exception occurred\n"
          ]
        }
      ]
    },
    {
      "cell_type": "code",
      "source": [
        "try:\n",
        "  print('How are you?')\n",
        "  print(param)\n",
        "except:\n",
        "  print('Exception occurred')"
      ],
      "metadata": {
        "id": "qj0yEgvMW2KA",
        "outputId": "3fa6719c-6755-4abb-e52a-888dbf46cb4e",
        "colab": {
          "base_uri": "https://localhost:8080/"
        }
      },
      "execution_count": null,
      "outputs": [
        {
          "output_type": "stream",
          "name": "stdout",
          "text": [
            "How are you?\n",
            "Exception occurred\n"
          ]
        }
      ]
    },
    {
      "cell_type": "code",
      "execution_count": null,
      "metadata": {
        "colab": {
          "base_uri": "https://localhost:8080/"
        },
        "id": "XKm8hYRNqJE2",
        "outputId": "2013a216-bb94-4365-8f5f-293133e80e67"
      },
      "outputs": [
        {
          "output_type": "stream",
          "name": "stdout",
          "text": [
            "How are you?\n",
            "Exception occurred\n"
          ]
        }
      ],
      "source": [
        "# 위 #2 의 예시\n",
        "\n",
        "try:\n",
        "  print ('How are you?')\n",
        "  print (param) #param 변수가 정의되지 않았으므로 NameError 예외가 발생. 예외가 발생하면 프로그램은 try 블록을 빠져나와 except 블록으로 이동.\n",
        "\n",
        "except:\n",
        "  print ('Exception occurred') #except 블록에서는 \"Exception occurred\"라는 메시지가 출력된다."
      ]
    },
    {
      "cell_type": "code",
      "source": [
        "# 위 #3  (try: ~ exception: ~ else: 에서 else 부분이 실행되지 않은 예시 )\n",
        "\n",
        "try:\n",
        "  print ('How are you?')\n",
        "  print (param) #param 변수를 사용하려고 시도. param 변수가 정의되지 않았으므로 NameError 예외가 발생합니다.\n",
        "\n",
        "except:\n",
        "  print ('Exception occurred.') #예외가 발생하면 프로그램은 try 블록을 빠져나와 except 블록으로 이동. except 블록에서는 \"Exception occurred.\"라는 메시지가 출력.\n",
        "\n",
        "\n",
        "else:\n",
        "  print ('Exception did not occur.') #else 블록은 실행되지 않는다."
      ],
      "metadata": {
        "colab": {
          "base_uri": "https://localhost:8080/"
        },
        "id": "yI5O0MpmuDHE",
        "outputId": "cb151b2e-c3dc-4fe6-e630-ae65091dd9af"
      },
      "execution_count": null,
      "outputs": [
        {
          "output_type": "stream",
          "name": "stdout",
          "text": [
            "How are you?\n",
            "Exception occurred.\n"
          ]
        }
      ]
    },
    {
      "cell_type": "code",
      "source": [
        "try:\n",
        "  print(\"How are you?\")\n",
        "  print(param)\n",
        "except:\n",
        "  print(\"Exception occurred.\")\n",
        "else:\n",
        "  print(\"Exception did not occur.\")"
      ],
      "metadata": {
        "id": "9PtGG_K9TE2k",
        "outputId": "33bdffe8-5f98-4d77-988f-397ad7d46eb3",
        "colab": {
          "base_uri": "https://localhost:8080/"
        }
      },
      "execution_count": 2,
      "outputs": [
        {
          "output_type": "stream",
          "name": "stdout",
          "text": [
            "How are you?\n",
            "Exception occurred.\n"
          ]
        }
      ]
    },
    {
      "cell_type": "code",
      "source": [
        "try:\n",
        "  print('How are you?')\n",
        "  print(param)\n"
      ],
      "metadata": {
        "id": "CwLR52U9RdK9",
        "outputId": "f9f434f7-e839-4bec-ab1c-6f22d08497bb",
        "colab": {
          "base_uri": "https://localhost:8080/",
          "height": 144
        }
      },
      "execution_count": null,
      "outputs": [
        {
          "output_type": "error",
          "ename": "SyntaxError",
          "evalue": "ignored",
          "traceback": [
            "\u001b[0;36m  File \u001b[0;32m\"<ipython-input-2-c54021576b30>\"\u001b[0;36m, line \u001b[0;32m4\u001b[0m\n\u001b[0;31m    \u001b[0m\n\u001b[0m    ^\u001b[0m\n\u001b[0;31mSyntaxError\u001b[0m\u001b[0;31m:\u001b[0m incomplete input\n"
          ]
        }
      ]
    },
    {
      "cell_type": "code",
      "source": [
        "try:\n",
        "  print('How are you?')\n",
        "  print(param)\n",
        "except:\n",
        "  print('Exception occurred.')\n",
        "else:\n",
        "  print('Exception did not occur.')"
      ],
      "metadata": {
        "id": "w-__wKQHXIKu",
        "outputId": "8401acc5-af94-414e-996b-d8b48d49a800",
        "colab": {
          "base_uri": "https://localhost:8080/"
        }
      },
      "execution_count": null,
      "outputs": [
        {
          "output_type": "stream",
          "name": "stdout",
          "text": [
            "How are you?\n",
            "Exception occurred.\n"
          ]
        }
      ]
    },
    {
      "cell_type": "code",
      "source": [
        "try:\n",
        "  print('How are you?')\n",
        "  print(param)\n",
        "except:\n",
        "  print('Exception occurred.')\n",
        "else:\n",
        "  print('Exception did not occur.')"
      ],
      "metadata": {
        "id": "9tHu_0xlJHQB",
        "outputId": "f4be11e2-9867-49d4-b3c0-2a74d9e7d3be",
        "colab": {
          "base_uri": "https://localhost:8080/"
        }
      },
      "execution_count": null,
      "outputs": [
        {
          "output_type": "stream",
          "name": "stdout",
          "text": [
            "How are you?\n",
            "Exception occurred.\n"
          ]
        }
      ]
    },
    {
      "cell_type": "code",
      "source": [
        "try:\n",
        "  print('How are you?')\n",
        "  print(param)\n",
        "except:\n",
        "  print('Exception occurred.')\n",
        "else:\n",
        "  print('Exception did not occur.')"
      ],
      "metadata": {
        "id": "1RQzogKKhkrE",
        "outputId": "6d1995ff-b509-4364-b70f-974d868e247e",
        "colab": {
          "base_uri": "https://localhost:8080/"
        }
      },
      "execution_count": null,
      "outputs": [
        {
          "output_type": "stream",
          "name": "stdout",
          "text": [
            "How are you?\n",
            "Exception occurred.\n"
          ]
        }
      ]
    },
    {
      "cell_type": "code",
      "source": [
        "try:\n",
        "  print('How are you?')\n",
        "  print(param)\n",
        "except:\n",
        "  print('Exception occurred.')\n",
        "else:\n",
        "  print('Exception did not occur.')"
      ],
      "metadata": {
        "id": "Lqt66cUquthz",
        "outputId": "ca17e101-af17-4d5e-835c-99e21c4bced6",
        "colab": {
          "base_uri": "https://localhost:8080/"
        }
      },
      "execution_count": null,
      "outputs": [
        {
          "output_type": "stream",
          "name": "stdout",
          "text": [
            "How are you?\n",
            "Exception occurred.\n"
          ]
        }
      ]
    },
    {
      "cell_type": "code",
      "source": [
        "try:\n",
        "  print('How are you?')\n",
        "  print(param)\n",
        "except:\n",
        "  print('Exception occurred.')\n",
        "else:\n",
        "  print('Exception did not occur.' )"
      ],
      "metadata": {
        "id": "nwFaSq3Ms9W8",
        "outputId": "d6a64e52-1a3f-48c0-fb7f-b4ffda1c9d48",
        "colab": {
          "base_uri": "https://localhost:8080/"
        }
      },
      "execution_count": null,
      "outputs": [
        {
          "output_type": "stream",
          "name": "stdout",
          "text": [
            "How are you?\n",
            "Exception occurred.\n"
          ]
        }
      ]
    },
    {
      "cell_type": "code",
      "source": [
        "# 위 #3  (try: ~ exception: ~ else: 에서 except 부분이 실행되지 않은 예시 )\n",
        "\n",
        "try:\n",
        "  print ('How are you?')\n",
        "#  print (param) #해당 코드라인 비활성화시켜 param 변수 사용하여 출력 시도 안함.\n",
        "\n",
        "except:\n",
        "  print ('Exception occurred.')\n",
        "\n",
        "else:\n",
        "  print ('Exception did not occur.')"
      ],
      "metadata": {
        "colab": {
          "base_uri": "https://localhost:8080/"
        },
        "id": "y46HtrZSu_s2",
        "outputId": "0edaf761-aeec-474b-f2ef-5da6110d966a"
      },
      "execution_count": null,
      "outputs": [
        {
          "output_type": "stream",
          "name": "stdout",
          "text": [
            "How are you?\n",
            "Exception did not occur.\n"
          ]
        }
      ]
    },
    {
      "cell_type": "code",
      "source": [
        "try:\n",
        "  print('How are you?')\n",
        "  #print(param)\n",
        "except:\n",
        "  print('Exception occurred')\n",
        "else:\n",
        "  print('exception did not occur')"
      ],
      "metadata": {
        "id": "Zz80p3tdWpeQ",
        "outputId": "a847c8d2-7b64-4aa8-bb78-8cd0f896c97b",
        "colab": {
          "base_uri": "https://localhost:8080/"
        }
      },
      "execution_count": null,
      "outputs": [
        {
          "output_type": "stream",
          "name": "stdout",
          "text": [
            "How are you?\n",
            "exception did not occur\n"
          ]
        }
      ]
    },
    {
      "cell_type": "code",
      "source": [
        "try:\n",
        "  print('How are you?')\n",
        "  #print(param)\n",
        "except:\n",
        "  print('Exception occurred.')\n",
        "else:\n",
        "  print('Exception did not occur.')\n"
      ],
      "metadata": {
        "id": "DrpzOIqhXaYx",
        "outputId": "aed13865-9abe-40c9-b3b2-d7f5d13ef9d4",
        "colab": {
          "base_uri": "https://localhost:8080/"
        }
      },
      "execution_count": null,
      "outputs": [
        {
          "output_type": "stream",
          "name": "stdout",
          "text": [
            "How are you?\n",
            "Exception did not occur.\n"
          ]
        }
      ]
    },
    {
      "cell_type": "code",
      "source": [
        "try:\n",
        "  print('How are you?')\n",
        "  #print(param)\n",
        "except:\n",
        "  print('Exception occurred.')\n",
        "else:\n",
        "  print('Exception did not occur.')"
      ],
      "metadata": {
        "id": "cOIf8b1sJqeC",
        "outputId": "52e29d55-4c60-434f-859e-4e0eeba245ec",
        "colab": {
          "base_uri": "https://localhost:8080/"
        }
      },
      "execution_count": null,
      "outputs": [
        {
          "output_type": "stream",
          "name": "stdout",
          "text": [
            "How are you?\n",
            "Exception did not occur.\n"
          ]
        }
      ]
    },
    {
      "cell_type": "code",
      "source": [
        "try:\n",
        "  print('How are you?')\n",
        "  #print(param)\n",
        "except:\n",
        "  print('Exception occurred.')\n",
        "else:\n",
        "  print('Exception did not occur.')"
      ],
      "metadata": {
        "id": "2ZPO_1aWh3ER",
        "outputId": "e083fb06-de2d-4258-fde4-41ee5ebc6ab5",
        "colab": {
          "base_uri": "https://localhost:8080/"
        }
      },
      "execution_count": null,
      "outputs": [
        {
          "output_type": "stream",
          "name": "stdout",
          "text": [
            "How are you?\n",
            "Exception did not occur.\n"
          ]
        }
      ]
    },
    {
      "cell_type": "code",
      "source": [
        "try:\n",
        "  print('How are you?')\n",
        "  #print(param)\n",
        "except:\n",
        "  print('Exception occurred.')\n",
        "else:\n",
        "  print('Exception did not occur.')"
      ],
      "metadata": {
        "id": "Vhso4StwvEvR",
        "outputId": "75f2a46b-2c60-4f65-c105-1811a72cad27",
        "colab": {
          "base_uri": "https://localhost:8080/"
        }
      },
      "execution_count": null,
      "outputs": [
        {
          "output_type": "stream",
          "name": "stdout",
          "text": [
            "How are you?\n",
            "Exception did not occur.\n"
          ]
        }
      ]
    },
    {
      "cell_type": "code",
      "source": [
        "try:\n",
        "  print('How are you?')\n",
        "  #print(param)\n",
        "except:\n",
        "  print('Exception occurred.')\n",
        "else:\n",
        "  print('Exception did not occur.')"
      ],
      "metadata": {
        "id": "vi2LGdcFtkjt",
        "outputId": "5a77204c-c56d-488a-bc3f-bc42f1f69167",
        "colab": {
          "base_uri": "https://localhost:8080/"
        }
      },
      "execution_count": null,
      "outputs": [
        {
          "output_type": "stream",
          "name": "stdout",
          "text": [
            "How are you?\n",
            "Exception did not occur.\n"
          ]
        }
      ]
    },
    {
      "cell_type": "code",
      "source": [
        "# 위 #4  (try: ~ exception: ~ finally: exeption 예외 발생의 유무에 상관없이 무조건 실행되는 finally 부분 )\n",
        "\n",
        "try:\n",
        "  print ('How are you?')\n",
        "#  print (param)\n",
        "\n",
        "except:\n",
        "  print ('Exception occurred.')\n",
        "\n",
        "finally:\n",
        "  print ('This code should be running.')"
      ],
      "metadata": {
        "colab": {
          "base_uri": "https://localhost:8080/"
        },
        "id": "k8-JM-FevYkh",
        "outputId": "957f2d20-d727-478a-d76b-cfcf1a6d3f2b"
      },
      "execution_count": null,
      "outputs": [
        {
          "output_type": "stream",
          "name": "stdout",
          "text": [
            "How are you?\n",
            "This code should be running.\n"
          ]
        }
      ]
    },
    {
      "cell_type": "code",
      "source": [
        "try:\n",
        "  print('How are you?')\n",
        "  #print(param)\n",
        "except:\n",
        "  print('Exception occurred.')\n",
        "finally:\n",
        "  print('This code should be running.')"
      ],
      "metadata": {
        "id": "XqaLOsBnXvyY",
        "outputId": "21120f35-2899-4201-c9bf-72aa509380e0",
        "colab": {
          "base_uri": "https://localhost:8080/"
        }
      },
      "execution_count": null,
      "outputs": [
        {
          "output_type": "stream",
          "name": "stdout",
          "text": [
            "How are you?\n",
            "This code should be running.\n"
          ]
        }
      ]
    },
    {
      "cell_type": "code",
      "source": [
        "try:\n",
        "  print('How are you?')\n",
        "  #print(param)\n",
        "except:\n",
        "  print('Exception occurred.')\n",
        "finally:\n",
        "  print('This code should be running.')"
      ],
      "metadata": {
        "id": "I465ZqBbJ_-u",
        "outputId": "fe23601b-ea48-48a6-82ca-1b822939545b",
        "colab": {
          "base_uri": "https://localhost:8080/"
        }
      },
      "execution_count": null,
      "outputs": [
        {
          "output_type": "stream",
          "name": "stdout",
          "text": [
            "How are you?\n",
            "This code should be running.\n"
          ]
        }
      ]
    },
    {
      "cell_type": "code",
      "source": [
        "try:\n",
        "  print('How are you?')\n",
        "  #print(param)\n",
        "except:\n",
        "  print('Exception occurred.')\n",
        "finally:\n",
        "  print('This code should be running.')"
      ],
      "metadata": {
        "id": "n0EUGA3QiM2J",
        "outputId": "bd010e50-ac9d-4fba-de6e-ccb6e364cbec",
        "colab": {
          "base_uri": "https://localhost:8080/"
        }
      },
      "execution_count": null,
      "outputs": [
        {
          "output_type": "stream",
          "name": "stdout",
          "text": [
            "How are you?\n",
            "This code should be running.\n"
          ]
        }
      ]
    },
    {
      "cell_type": "code",
      "source": [
        "try:\n",
        "  print('How are you?')\n",
        "  #print(param)\n",
        "except:\n",
        "  print('Exception occurred.')\n",
        "finally:\n",
        "  print('This code should be running.')"
      ],
      "metadata": {
        "id": "eoJeKylWvZu-",
        "outputId": "fec80890-8695-4063-fa23-a4667e964bda",
        "colab": {
          "base_uri": "https://localhost:8080/"
        }
      },
      "execution_count": null,
      "outputs": [
        {
          "output_type": "stream",
          "name": "stdout",
          "text": [
            "How are you?\n",
            "This code should be running.\n"
          ]
        }
      ]
    },
    {
      "cell_type": "code",
      "source": [
        "try:\n",
        "  print('How are you?')\n",
        "  #print(param)\n",
        "except:\n",
        "  print('Exception occurred.')\n",
        "finally:\n",
        "  print('This code should be running.')"
      ],
      "metadata": {
        "id": "XEMV4Jo-uAJL",
        "outputId": "21105fdb-4390-4546-bf57-5d09580c7c0a",
        "colab": {
          "base_uri": "https://localhost:8080/"
        }
      },
      "execution_count": null,
      "outputs": [
        {
          "output_type": "stream",
          "name": "stdout",
          "text": [
            "How are you?\n",
            "This code should be running.\n"
          ]
        }
      ]
    }
  ]
}