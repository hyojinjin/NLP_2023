{
  "nbformat": 4,
  "nbformat_minor": 0,
  "metadata": {
    "colab": {
      "provenance": [],
      "include_colab_link": true
    },
    "kernelspec": {
      "name": "python3",
      "display_name": "Python 3"
    },
    "language_info": {
      "name": "python"
    }
  },
  "cells": [
    {
      "cell_type": "markdown",
      "metadata": {
        "id": "view-in-github",
        "colab_type": "text"
      },
      "source": [
        "<a href=\"https://colab.research.google.com/github/hyojinjin/NLP_2023/blob/main/3_Indexing_Slicing.ipynb\" target=\"_parent\"><img src=\"https://colab.research.google.com/assets/colab-badge.svg\" alt=\"Open In Colab\"/></a>"
      ]
    },
    {
      "cell_type": "markdown",
      "source": [
        "# 📌 Indexing of Sequence Data\n",
        "\n",
        "| str data | I |   | l | o | v | e |  | P | y | t | h | o |n | ! |\n",
        "|:---------|:--|:--|:--|:--|:--|:--|:--|:--|:--|:--|:--|:-|:-|:-:|\n",
        "| Forward Indexing | 0 | 1 | 2 | 3 | 4 | 5 | 6 | 7 | 8 | 9 | 10| 11| 12|13|\n",
        "| Backward Indexing|-14| -13| -12| -11| -10| -9| -8| -7| -6| -5| -4| -3| -2|-1|\n",
        "\n",
        "\n",
        "\n",
        "# ✂️ Slicing of List data\n",
        "\n",
        "        👻 You have to deduct one (-1) from the second element (2번째 요소를 |oo 미만|으로 해석한다.  \n",
        "\n",
        "- [:] from the first element to the final element (e.g., 'I love Python!')\n",
        "\n",
        "| str data | I |   | l | o | v | e |  | P | y | t | h | o |n | ! |\n",
        "|:---------|:--|:--|:--|:--|:--|:--|:--|:--|:--|:--|:--|:-|:-|:-:|\n",
        "| Forward Indexing | 0 | 1 | 2 | 3 | 4 | 5 | 6 | 7 | 8 | 9 | 10| 11| 12|13|\n",
        "| Backward Indexing|-14| -13| -12| -11| -10| -9| -8| -7| -6| -5| -4| -3| -2|-1|\n",
        "\n",
        "\n",
        "- [1:5] from Index 1 to Index 4 (e.g., ' love') (5 미만)\n",
        "\n",
        "\n",
        "| str data |   | l | o | v |\n",
        "|:---------|:--|:--|:--|:-:|\n",
        "| Forward Indexing | 1 | 2 | 3 | 4 |\n",
        "\n",
        "\n",
        "- [:5] from Index 0 to Index 4 (e.g., 'I love') (5 미만)\n",
        "\n",
        "\n",
        "| str data | I |   | l | o | v |\n",
        "|:---------|:--|:--|:--|:--|:-:|\n",
        "| Forward Indexing | 0 | 1 | 2 | 3 | 4 |\n",
        "\n",
        "\n",
        "- [5:] from Index 5 to the final element (e.g., 'e Python!')\n",
        "\n",
        "| str data | e |  | P | y | t | h | o |n | ! |\n",
        "|:---------|:--|:--|:--|:--|:--|:--|:-|:-|:-:|\n",
        "| Forward Indexing | 5 | 6 | 7 | 8 | 9 | 10| 11| 12|13|\n",
        "\n",
        "- [:-3] from forward Index 0 to Backward Index -4 (e.g., 'I love Pyth') (-3 미만)\n",
        "\n",
        "| str data | I |   | l | o | v | e |  | P | y | t | h |\n",
        "|:---------|:--|:--|:--|:--|:--|:--|:--|:--|:--|:--|:-:|\n",
        "| Forward Indexing | 0 | 1 | 2 | 3 | 4 | 5 | 6 | 7 | 8 | 9 | 10|\n",
        "| Backward Indexing|-14| -13| -12| -11| -10| -9| -8| -7| -6| -5| -4| -3| -2|-1|\n",
        "\n",
        "- [-3:] from backward Index -3 to the final element (e.g., 'on!')\n",
        "\n",
        "| str data | o |n | ! |\n",
        "|:---------|:-|:-|:-:|\n",
        "| Backward Indexing|-3| -2|-1|\n",
        "\n",
        "\n",
        "- [::2] Every other element from the first element (e.g., 'Ilv yho')\n",
        "\n",
        "| str data | I | l | v |  | y | h | o |\n",
        "|:---------|:--|:--|:--|:--|:--|:--|:-:|\n",
        "| Forward Indexing | 0 | 2 | 4 | 6 | 8 | 10| 12|\n",
        "\n",
        "\n",
        "\n",
        "# ⚾ ⚽ 🏀 🎾 🎯 It is time to get some exercise!"
      ],
      "metadata": {
        "id": "hz0-YwDvaAYj"
      }
    },
    {
      "cell_type": "code",
      "source": [
        "str_data='l love python'\n",
        "print(str_data)\n",
        "\n",
        "list_data=['apple','banana','grapes','mango']\n",
        "print(list_data)\n",
        "\n",
        "tuple_data=('apple','banana','grapes','mango')\n",
        "print(tuple_data)"
      ],
      "metadata": {
        "id": "Lz6B0QjJyq6l",
        "outputId": "3f65dede-6e2f-4e4e-f509-b6bcc762e2af",
        "colab": {
          "base_uri": "https://localhost:8080/"
        }
      },
      "execution_count": null,
      "outputs": [
        {
          "output_type": "stream",
          "name": "stdout",
          "text": [
            "l love python\n",
            "['apple', 'banana', 'grapes', 'mango']\n",
            "('apple', 'banana', 'grapes', 'mango')\n"
          ]
        }
      ]
    },
    {
      "cell_type": "code",
      "source": [
        "str_data='I love python'\n",
        "print(str_data)\n",
        "list_data=['apple','banana','grapes','mango']\n",
        "print(list_data)\n",
        "tuple_data=('apple','banana','grapes','mango')\n",
        "print(tuple_data)"
      ],
      "metadata": {
        "id": "5WGRjKKrFj4I",
        "outputId": "ee105935-4c6f-49c2-99ce-5b4e6045f819",
        "colab": {
          "base_uri": "https://localhost:8080/"
        }
      },
      "execution_count": null,
      "outputs": [
        {
          "output_type": "stream",
          "name": "stdout",
          "text": [
            "I love python\n",
            "['apple', 'banana', 'grapes', 'mango']\n",
            "('apple', 'banana', 'grapes', 'mango')\n"
          ]
        }
      ]
    },
    {
      "cell_type": "code",
      "source": [
        "str_data='I love you'\n",
        "print(str_data)\n",
        "list_data=['apple','banana','grapes','mango']\n",
        "print(list_data)\n",
        "tuple_data=('apple','banana','grapes','mango')\n",
        "print(tuple_data)"
      ],
      "metadata": {
        "id": "iwTCsVBpc9G-",
        "outputId": "b7128952-07d1-4c53-d697-d8dd6ce199c3",
        "colab": {
          "base_uri": "https://localhost:8080/"
        }
      },
      "execution_count": 2,
      "outputs": [
        {
          "output_type": "stream",
          "name": "stdout",
          "text": [
            "I love you\n",
            "['apple', 'banana', 'grapes', 'mango']\n",
            "('apple', 'banana', 'grapes', 'mango')\n"
          ]
        }
      ]
    },
    {
      "cell_type": "code",
      "source": [
        "str_data='l love python'\n",
        "print(str_data)\n",
        "list_data=['apple','banana','grapes','mango']\n",
        "print(list_data)\n",
        "tuple_data=('apple','banana','grapes','mango')\n",
        "print(tuple_data)"
      ],
      "metadata": {
        "colab": {
          "base_uri": "https://localhost:8080/"
        },
        "id": "HZavMNwqz-eE",
        "outputId": "3a7faad8-12b3-4fab-d96d-12766cf09d94"
      },
      "execution_count": null,
      "outputs": [
        {
          "output_type": "stream",
          "name": "stdout",
          "text": [
            "l love python\n",
            "['apple', 'banana', 'grapes', 'mango']\n",
            "('apple', 'banana', 'grapes', 'mango')\n"
          ]
        }
      ]
    },
    {
      "cell_type": "code",
      "source": [
        "str_data='l love coco'\n",
        "print(str_data)\n",
        "\n",
        "list_data=['apple','banana','grapes','mango']\n",
        "print(list_data)\n",
        "\n",
        "tuple_data=('apple','banana','grapes','mango')\n",
        "print(tuple_data)"
      ],
      "metadata": {
        "id": "bhjh5EA86NaL",
        "outputId": "b1ba4c69-6bfa-4fd1-d2d3-e4c0ece20073",
        "colab": {
          "base_uri": "https://localhost:8080/"
        }
      },
      "execution_count": null,
      "outputs": [
        {
          "output_type": "stream",
          "name": "stdout",
          "text": [
            "l love coco\n",
            "['apple', 'banana', 'grapes', 'mango']\n",
            "('apple', 'banana', 'grapes', 'mango')\n"
          ]
        }
      ]
    },
    {
      "cell_type": "code",
      "source": [
        "str_data=' l love coco'\n",
        "print(str_data)\n",
        "list_data=['apple','banana','grapes','mango']\n",
        "print(list_data)\n",
        "tuple_data=('apple','banana','grapes','mango')\n",
        "print(tuple_data)"
      ],
      "metadata": {
        "id": "e0XwS_2EADvQ",
        "outputId": "2fc8f816-ceb9-4ed8-a677-a9a2a27ff57c",
        "colab": {
          "base_uri": "https://localhost:8080/"
        }
      },
      "execution_count": null,
      "outputs": [
        {
          "output_type": "stream",
          "name": "stdout",
          "text": [
            " l love coco\n",
            "['apple', 'banana', 'grapes', 'mango']\n",
            "('apple', 'banana', 'grapes', 'mango')\n"
          ]
        }
      ]
    },
    {
      "cell_type": "code",
      "source": [
        "str_data='l love python'\n",
        "print(str_data)\n",
        "list_data=['apple','banana','grapes','mango']\n",
        "print(list_data)\n",
        "tuple_data=('apple','banana','grapes','mango')\n",
        "print(tuple_data)"
      ],
      "metadata": {
        "id": "YtNzI5yHPl9A",
        "outputId": "80f17bf0-313f-45d4-a998-019a50f68bfb",
        "colab": {
          "base_uri": "https://localhost:8080/"
        }
      },
      "execution_count": null,
      "outputs": [
        {
          "output_type": "stream",
          "name": "stdout",
          "text": [
            "l love python\n",
            "['apple', 'banana', 'grapes', 'mango']\n",
            "('apple', 'banana', 'grapes', 'mango')\n"
          ]
        }
      ]
    },
    {
      "cell_type": "code",
      "source": [
        "str_data='l love banana'\n",
        "print(str_data)\n",
        "list_data=['apple','banana','mango']\n",
        "print(list_data)\n",
        "tuple_data=('apple','banan','mango')\n",
        "print(tuple_data)"
      ],
      "metadata": {
        "id": "FENaevCuDbGc",
        "outputId": "0ae8f72b-998f-46eb-dc4a-e49ab23e1f8e",
        "colab": {
          "base_uri": "https://localhost:8080/"
        }
      },
      "execution_count": null,
      "outputs": [
        {
          "output_type": "stream",
          "name": "stdout",
          "text": [
            "l love banana\n",
            "['apple', 'banana', 'mango']\n",
            "('apple', 'banan', 'mango')\n"
          ]
        }
      ]
    },
    {
      "cell_type": "code",
      "source": [
        "str_data='l love banana'\n",
        "print(str_data)\n",
        "list_data=['apple','banana','mango']\n",
        "print(list_data)\n",
        "tuple_data=('apple','banana','mango')\n",
        "print(tuple_data)"
      ],
      "metadata": {
        "id": "lypTfQum9AzV",
        "outputId": "cb21cdb0-1146-4412-d1c0-c186892aa680",
        "colab": {
          "base_uri": "https://localhost:8080/"
        }
      },
      "execution_count": null,
      "outputs": [
        {
          "output_type": "stream",
          "name": "stdout",
          "text": [
            "l love banana\n",
            "['apple', 'banana', 'mango']\n",
            "('apple', 'banana', 'mango')\n"
          ]
        }
      ]
    },
    {
      "cell_type": "code",
      "source": [
        "str_data='l love banana'\n",
        "print(str_data)\n",
        "list_data=['apple','banana','mango']\n",
        "print(list_data)\n",
        "tuple_data=('apple','banana','mango')\n",
        "print(tuple_data)"
      ],
      "metadata": {
        "id": "nbr5tugmkhI3",
        "outputId": "2514534c-a9a7-4f79-a37c-a27b10182a23",
        "colab": {
          "base_uri": "https://localhost:8080/"
        }
      },
      "execution_count": null,
      "outputs": [
        {
          "output_type": "stream",
          "name": "stdout",
          "text": [
            "l love banana\n",
            "['apple', 'banana', 'mango']\n",
            "('apple', 'banana', 'mango')\n"
          ]
        }
      ]
    },
    {
      "cell_type": "code",
      "source": [
        "str_data='l hate banana'\n",
        "print(str_data)\n",
        "list_data=['apple','banana','mango']\n",
        "print(list_data)\n",
        "tuple_data=('apple','banana','mango')\n",
        "print(tuple_data)\n"
      ],
      "metadata": {
        "id": "tERbZOC3OE26",
        "outputId": "7823fc23-a711-4548-ee08-beb4496a7f51",
        "colab": {
          "base_uri": "https://localhost:8080/"
        }
      },
      "execution_count": null,
      "outputs": [
        {
          "output_type": "stream",
          "name": "stdout",
          "text": [
            "l hate banana\n",
            "['apple', 'banana', 'mango']\n",
            "('apple', 'banana', 'mango')\n"
          ]
        }
      ]
    },
    {
      "cell_type": "code",
      "execution_count": null,
      "metadata": {
        "colab": {
          "base_uri": "https://localhost:8080/"
        },
        "id": "0mZYBcGxZz0O",
        "outputId": "f33f252d-45b9-4908-ad61-f710cb917d31"
      },
      "outputs": [
        {
          "output_type": "stream",
          "name": "stdout",
          "text": [
            "I love python\n",
            "['apple', 'banana', 'grapes', 'mango']\n",
            "('apple', 'banana', 'grapes', 'mango')\n"
          ]
        }
      ],
      "source": [
        "#@markdown 🚗 🚙 Sequence data (str, list, tuple)\n",
        "\n",
        "#@markdown ##Exercise\n",
        "\n",
        "\n",
        "str_data = 'I love python'\n",
        "list_data = ['apple', 'banana', 'grapes', 'mango']\n",
        "tuple_data = ('apple', 'banana', 'grapes', 'mango')\n",
        "\n",
        "print (str_data)\n",
        "print (list_data)\n",
        "print(tuple_data)"
      ]
    },
    {
      "cell_type": "code",
      "source": [],
      "metadata": {
        "id": "11wMBwZU1eYN"
      },
      "execution_count": null,
      "outputs": []
    },
    {
      "cell_type": "code",
      "source": [
        "str_data='l love coco'\n",
        "list_data=['apple','banana','grapes','mango']\n",
        "tuple_data=('apple','banana''grapes','mango')\n",
        "\n",
        "print(str_data)\n",
        "print(list_data)\n",
        "print(tuple_data)"
      ],
      "metadata": {
        "id": "rwmbZ5th95hr",
        "outputId": "65401f38-4521-4f4a-d9c7-a6a11f5be66e",
        "colab": {
          "base_uri": "https://localhost:8080/"
        }
      },
      "execution_count": null,
      "outputs": [
        {
          "output_type": "stream",
          "name": "stdout",
          "text": [
            "l love coco\n",
            "['apple', 'banana', 'grapes', 'mango']\n",
            "('apple', 'bananagrapes', 'mango')\n"
          ]
        }
      ]
    },
    {
      "cell_type": "code",
      "source": [
        "str_data='i love coco'\n",
        "list_data"
      ],
      "metadata": {
        "id": "qAK3QHwkAmhz"
      },
      "execution_count": null,
      "outputs": []
    },
    {
      "cell_type": "code",
      "source": [
        "str_data='l love Python'\n",
        "\n",
        "print(str_data[0])\n",
        "print(str_data[2])\n",
        "print(str_data[5])"
      ],
      "metadata": {
        "id": "5u6nqhumzgSj",
        "outputId": "38fd40ba-9e4a-4d75-a19a-2ab60c54465b",
        "colab": {
          "base_uri": "https://localhost:8080/"
        }
      },
      "execution_count": null,
      "outputs": [
        {
          "output_type": "stream",
          "name": "stdout",
          "text": [
            "l\n",
            "l\n",
            "e\n"
          ]
        }
      ]
    },
    {
      "cell_type": "code",
      "source": [
        "str_data='I love python'\n",
        "print(str_data[0])\n",
        "print(str_data[1])\n",
        "print(str_data[2])\n",
        "print(str_data[-1])"
      ],
      "metadata": {
        "id": "IF3wjJHTRQKa",
        "outputId": "5ca5d8a5-d04d-4a94-9189-bba7e72e3f4c",
        "colab": {
          "base_uri": "https://localhost:8080/"
        }
      },
      "execution_count": null,
      "outputs": [
        {
          "output_type": "stream",
          "name": "stdout",
          "text": [
            "I\n",
            " \n",
            "l\n",
            "n\n"
          ]
        }
      ]
    },
    {
      "cell_type": "code",
      "source": [
        "str_data='i love coco'\n",
        "print(str_data[0])\n",
        "print(str_data[2])\n",
        "print(str_data[3])\n",
        "print(str_data[4])"
      ],
      "metadata": {
        "id": "Cz7ZcI9CGAyW",
        "outputId": "6f4ff714-e8ba-484f-bc59-f84de88e97aa",
        "colab": {
          "base_uri": "https://localhost:8080/"
        }
      },
      "execution_count": null,
      "outputs": [
        {
          "output_type": "stream",
          "name": "stdout",
          "text": [
            "i\n",
            "l\n",
            "o\n",
            "v\n"
          ]
        }
      ]
    },
    {
      "cell_type": "code",
      "source": [
        "str_data='I love python'\n",
        "print(str_data[2])\n",
        "print(str_data[1])\n",
        "print(str_data[4])\n",
        "print(str_data[3])\n",
        "print(str_data[0])\n",
        "print(str_data[1])\n",
        "print(str_data[2])"
      ],
      "metadata": {
        "colab": {
          "base_uri": "https://localhost:8080/"
        },
        "id": "zSa1gHyE1mFn",
        "outputId": "33b85a28-e0da-40c1-efcb-a2db96cc7be3"
      },
      "execution_count": null,
      "outputs": [
        {
          "output_type": "stream",
          "name": "stdout",
          "text": [
            "l\n",
            " \n",
            "v\n",
            "o\n",
            "I\n",
            " \n",
            "l\n"
          ]
        }
      ]
    },
    {
      "cell_type": "code",
      "source": [
        "str_data='I love coco'\n",
        "print(str_data[0])\n",
        "print(str_data[1])\n",
        "print(str_data[2])"
      ],
      "metadata": {
        "colab": {
          "base_uri": "https://localhost:8080/"
        },
        "id": "KQoJ_4gi2Yk0",
        "outputId": "7dd838ad-bb3e-486b-a91e-3ae3b7e43997"
      },
      "execution_count": null,
      "outputs": [
        {
          "output_type": "stream",
          "name": "stdout",
          "text": [
            "I\n",
            " \n",
            "l\n"
          ]
        }
      ]
    },
    {
      "cell_type": "code",
      "source": [
        "str_data='l love python'\n",
        "print(str_data[0])\n",
        "print(str_data[2])\n",
        "print(str_data[4])\n",
        "print(str_data[5])"
      ],
      "metadata": {
        "id": "AVsFacFrQitJ",
        "outputId": "1f5ab968-5b23-493a-b077-2730c4bc9600",
        "colab": {
          "base_uri": "https://localhost:8080/"
        }
      },
      "execution_count": null,
      "outputs": [
        {
          "output_type": "stream",
          "name": "stdout",
          "text": [
            "l\n",
            "l\n",
            "v\n",
            "e\n"
          ]
        }
      ]
    },
    {
      "cell_type": "code",
      "source": [
        "str_data='l love python'\n",
        "print(str_data[1])\n",
        "print(str_data[2])\n",
        "print(str_data[4])\n",
        "print(str_data[5])"
      ],
      "metadata": {
        "id": "bGujnMPZEIJI",
        "outputId": "bd56ee48-14c9-4ce4-d19c-333076eb3dd1",
        "colab": {
          "base_uri": "https://localhost:8080/"
        }
      },
      "execution_count": null,
      "outputs": [
        {
          "output_type": "stream",
          "name": "stdout",
          "text": [
            " \n",
            "l\n",
            "v\n",
            "e\n"
          ]
        }
      ]
    },
    {
      "cell_type": "code",
      "source": [
        "str_data='l love coco'\n",
        "print(str_data[1])\n",
        "print(str_data[2])\n",
        "print(str_data[3])"
      ],
      "metadata": {
        "id": "10G_tWLvlEaw",
        "outputId": "a483b31f-078e-4c92-c743-8245ed03f496",
        "colab": {
          "base_uri": "https://localhost:8080/"
        }
      },
      "execution_count": null,
      "outputs": [
        {
          "output_type": "stream",
          "name": "stdout",
          "text": [
            " \n",
            "l\n",
            "o\n"
          ]
        }
      ]
    },
    {
      "cell_type": "code",
      "source": [
        "str_data='l love coco'\n",
        "print(str_data[2])"
      ],
      "metadata": {
        "id": "MFrbtaBQS8r7",
        "outputId": "782ce1bf-2c4b-4548-ced3-fe2d8522d811",
        "colab": {
          "base_uri": "https://localhost:8080/"
        }
      },
      "execution_count": null,
      "outputs": [
        {
          "output_type": "stream",
          "name": "stdout",
          "text": [
            "l\n"
          ]
        }
      ]
    },
    {
      "cell_type": "code",
      "source": [
        "#@markdown 📌 Apply indices to string data\n",
        "\n",
        "#@markdown Forward Indexing\n",
        "\n",
        "str_data=\"I love Python\"\n",
        "print(str_data[0])\n",
        "print(str_data[1])\n",
        "print(str_data[2])\n",
        "print(str_data[3])\n",
        "print(str_data[4])\n",
        "print(str_data[5])\n",
        "print(str_data[6])\n",
        "print(str_data[7])\n",
        "print(str_data[8])\n",
        "print(str_data[9])\n",
        "print(str_data[10])\n",
        "print(str_data[11])\n",
        "print(str_data[12])"
      ],
      "metadata": {
        "id": "gdAwjLQIfRej",
        "outputId": "4d4e33d9-9750-429d-d0f9-274a5a968427",
        "colab": {
          "base_uri": "https://localhost:8080/"
        }
      },
      "execution_count": null,
      "outputs": [
        {
          "output_type": "stream",
          "name": "stdout",
          "text": [
            "I\n",
            " \n",
            "l\n",
            "o\n",
            "v\n",
            "e\n",
            " \n",
            "P\n",
            "y\n",
            "t\n",
            "h\n",
            "o\n",
            "n\n"
          ]
        }
      ]
    },
    {
      "cell_type": "code",
      "source": [
        "str_data='i love coco'\n",
        "print(str_data[0])"
      ],
      "metadata": {
        "id": "Dysr1AItBf0g",
        "outputId": "93f95ccc-fb7d-47f3-8427-499845c23b81",
        "colab": {
          "base_uri": "https://localhost:8080/"
        }
      },
      "execution_count": null,
      "outputs": [
        {
          "output_type": "stream",
          "name": "stdout",
          "text": [
            "i\n"
          ]
        }
      ]
    },
    {
      "cell_type": "code",
      "source": [
        "str_data='i love coco'\n",
        "print(str_data[0])\n",
        "print(str_data[1])\n",
        "print(str_data[2])\n",
        "print(str_data[3])\n",
        "print(str_data[4])\n",
        "print(str_data[5])\n",
        "print(str_data[6])\n",
        "print(str_data[7])"
      ],
      "metadata": {
        "id": "Z5GXrnMzAzW4",
        "outputId": "a1e8c683-de7c-4550-b022-6d77504ce0dd",
        "colab": {
          "base_uri": "https://localhost:8080/"
        }
      },
      "execution_count": null,
      "outputs": [
        {
          "output_type": "stream",
          "name": "stdout",
          "text": [
            "i\n",
            " \n",
            "l\n",
            "o\n",
            "v\n",
            "e\n",
            " \n",
            "c\n"
          ]
        }
      ]
    },
    {
      "cell_type": "code",
      "source": [
        "str_data=\"l love my dog\"\n",
        "print(str_data[0])\n",
        "print(str_data[2])\n",
        "print(str_data[4])\n",
        "print(str_data[7])\n",
        "print(str_data[8])\n",
        "print(str_data[9])\n",
        "print(str_data[10])\n",
        "print(str_data[11])\n",
        "print(str_data[12])"
      ],
      "metadata": {
        "id": "0xZseWD-Q4nI",
        "outputId": "9b390912-b355-44fc-a43d-9d566e3019b4",
        "colab": {
          "base_uri": "https://localhost:8080/"
        }
      },
      "execution_count": null,
      "outputs": [
        {
          "output_type": "stream",
          "name": "stdout",
          "text": [
            "l\n",
            "l\n",
            "v\n",
            "m\n",
            "y\n",
            " \n",
            "d\n",
            "o\n",
            "g\n"
          ]
        }
      ]
    },
    {
      "cell_type": "code",
      "source": [
        "str_data=\"l love my dog\"\n",
        "print(str_data[2])\n",
        "print(str_data[3])\n",
        "print(str_data[4])\n",
        "print(str_data[5])\n",
        "print(str_data[6])\n",
        "print(str_data[7])\n",
        "print(str_data[8])\n",
        "print(str_data[9])\n",
        "print(str_data[10])"
      ],
      "metadata": {
        "id": "MTFYJYs5Eavc",
        "outputId": "5fb09fd7-3707-4e22-a196-b8f0f2cf0e25",
        "colab": {
          "base_uri": "https://localhost:8080/"
        }
      },
      "execution_count": null,
      "outputs": [
        {
          "output_type": "stream",
          "name": "stdout",
          "text": [
            "l\n",
            "o\n",
            "v\n",
            "e\n",
            " \n",
            "m\n",
            "y\n",
            " \n",
            "d\n"
          ]
        }
      ]
    },
    {
      "cell_type": "code",
      "source": [
        "str_data='l love coco'\n",
        "print(str_data[2])\n",
        "print(str_data[3])\n",
        "print(str_data[4])\n",
        "print(str_data[5])"
      ],
      "metadata": {
        "id": "RX-s0LbQlq8_",
        "outputId": "6beeb539-fa2c-4cb1-c22f-8758b0eb3552",
        "colab": {
          "base_uri": "https://localhost:8080/"
        }
      },
      "execution_count": null,
      "outputs": [
        {
          "output_type": "stream",
          "name": "stdout",
          "text": [
            "l\n",
            "o\n",
            "v\n",
            "e\n"
          ]
        }
      ]
    },
    {
      "cell_type": "code",
      "source": [
        "str_data=\"I love coco\"\n",
        "print(str_data[2])\n",
        "print(str_data[4])"
      ],
      "metadata": {
        "id": "X9oYlrcbdfLT",
        "outputId": "0b5b7504-23db-45d2-c9e4-5a73fadc5a1c",
        "colab": {
          "base_uri": "https://localhost:8080/"
        }
      },
      "execution_count": 4,
      "outputs": [
        {
          "output_type": "stream",
          "name": "stdout",
          "text": [
            "l\n",
            "v\n"
          ]
        }
      ]
    },
    {
      "cell_type": "code",
      "source": [
        "str_data='my name is hyojin'\n",
        "print(str_data[0])\n",
        "print(str_data[-1])"
      ],
      "metadata": {
        "id": "qncjqPTCPL7b",
        "outputId": "510dcdb9-d385-40fe-d1fb-a9526f32054c",
        "colab": {
          "base_uri": "https://localhost:8080/"
        }
      },
      "execution_count": null,
      "outputs": [
        {
          "output_type": "stream",
          "name": "stdout",
          "text": [
            "m\n",
            "n\n"
          ]
        }
      ]
    },
    {
      "cell_type": "code",
      "source": [
        "print(str_data[-1])\n",
        "print(str_data[-2])\n",
        "print(str_data[-4])"
      ],
      "metadata": {
        "id": "vH0_pI0b0QFa",
        "outputId": "f1a8d2d7-e88b-4194-e1a5-91844cfcdbc6",
        "colab": {
          "base_uri": "https://localhost:8080/"
        }
      },
      "execution_count": null,
      "outputs": [
        {
          "output_type": "stream",
          "name": "stdout",
          "text": [
            "o\n",
            "c\n",
            "c\n"
          ]
        }
      ]
    },
    {
      "cell_type": "code",
      "source": [
        "print(str_data[-1])\n",
        "print(str_data[-2])\n",
        "print(str_data[-3])"
      ],
      "metadata": {
        "id": "ap647c_5BTwc",
        "outputId": "27f5f65f-ff8f-4604-d084-2c3d5ce501f2",
        "colab": {
          "base_uri": "https://localhost:8080/"
        }
      },
      "execution_count": null,
      "outputs": [
        {
          "output_type": "stream",
          "name": "stdout",
          "text": [
            "o\n",
            "c\n",
            "o\n"
          ]
        }
      ]
    },
    {
      "cell_type": "code",
      "source": [
        "print(str_data[-2])\n",
        "print(str_data[-3])\n",
        "print(str_data[-4])"
      ],
      "metadata": {
        "id": "KDlQZH4zE_PA",
        "outputId": "30d9c8e4-de65-4b07-ea2c-cc4e99de8265",
        "colab": {
          "base_uri": "https://localhost:8080/"
        }
      },
      "execution_count": null,
      "outputs": [
        {
          "output_type": "stream",
          "name": "stdout",
          "text": [
            "o\n",
            "d\n",
            " \n"
          ]
        }
      ]
    },
    {
      "cell_type": "code",
      "source": [
        "#@markdown 📌 Apply indices to string data\n",
        "\n",
        "#@markdown Backward Indexing\n",
        "\n",
        "str_data=\"I love Python\"\n",
        "print(str_data[-1])\n",
        "print(str_data[-2])\n",
        "print(str_data[-3])\n",
        "print(str_data[-4])\n",
        "print(str_data[-5])\n",
        "print(str_data[-6])\n",
        "print(str_data[-7])\n",
        "print(str_data[-8])\n",
        "print(str_data[-9])\n",
        "print(str_data[-10])\n",
        "print(str_data[-11])\n",
        "print(str_data[-12])\n",
        "print(str_data[-13])"
      ],
      "metadata": {
        "id": "3LaeY0POiniS",
        "outputId": "a5ea2aad-abfc-4876-af67-39a6bf20e22e",
        "colab": {
          "base_uri": "https://localhost:8080/"
        }
      },
      "execution_count": null,
      "outputs": [
        {
          "output_type": "stream",
          "name": "stdout",
          "text": [
            "n\n",
            "o\n",
            "h\n",
            "t\n",
            "y\n",
            "P\n",
            " \n",
            "e\n",
            "v\n",
            "o\n",
            "l\n",
            " \n",
            "I\n"
          ]
        }
      ]
    },
    {
      "cell_type": "code",
      "source": [
        "str_data=\"l love my dog\"\n",
        "print(str_data[-1])\n",
        "print(str_data[-2])\n",
        "print(str_data[-3])\n",
        "print(str_data[-4])\n",
        "print(str_data[-5])\n",
        "print(str_data[-6])\n",
        "print(str_data[-7])\n",
        "print(str_data[-8])\n",
        "print(str_data[-9])\n",
        "print(str_data[-11])\n",
        "print(str_data[-13])"
      ],
      "metadata": {
        "id": "77MeE-uvRjEI",
        "outputId": "2de2a031-f7ef-47ff-a33c-d799af162015",
        "colab": {
          "base_uri": "https://localhost:8080/"
        }
      },
      "execution_count": null,
      "outputs": [
        {
          "output_type": "stream",
          "name": "stdout",
          "text": [
            "g\n",
            "o\n",
            "d\n",
            " \n",
            "y\n",
            "m\n",
            " \n",
            "e\n",
            "v\n",
            "l\n",
            "l\n"
          ]
        }
      ]
    },
    {
      "cell_type": "code",
      "source": [
        "str_data=\"l love my banana\"\n",
        "print(str_data[-2])\n",
        "print(str_data[-3])\n",
        "print(str_data[-4])\n",
        "print(str_data[-5])"
      ],
      "metadata": {
        "id": "A4f3T7LOFKAy",
        "outputId": "b4972bc7-80a2-437a-e9a8-b28193824fc3",
        "colab": {
          "base_uri": "https://localhost:8080/"
        }
      },
      "execution_count": null,
      "outputs": [
        {
          "output_type": "stream",
          "name": "stdout",
          "text": [
            "n\n",
            "a\n",
            "n\n",
            "a\n"
          ]
        }
      ]
    },
    {
      "cell_type": "code",
      "source": [
        "strdata = 'Time is money!!'\n",
        "print(strdata[5])\n",
        "print(strdata[-2])\n",
        "print(strdata[0])\n",
        "print(strdata[-1])"
      ],
      "metadata": {
        "id": "S90zmkNWGdZt",
        "outputId": "bc74b6ed-b3dd-4c60-e574-1e45650a60aa",
        "colab": {
          "base_uri": "https://localhost:8080/"
        }
      },
      "execution_count": null,
      "outputs": [
        {
          "output_type": "stream",
          "name": "stdout",
          "text": [
            "i\n",
            "!\n",
            "T\n",
            "!\n"
          ]
        }
      ]
    },
    {
      "cell_type": "code",
      "source": [
        "strdata=\"my name is hyojin!\"\n",
        "print(strdata[4])\n",
        "print(strdata[-1])\n",
        "print(strdata[-2])\n",
        "print(strdata[-4])"
      ],
      "metadata": {
        "id": "Kf3raqI7SVdQ",
        "outputId": "70b2229a-1903-49c9-fe5b-a427e59eac3c",
        "colab": {
          "base_uri": "https://localhost:8080/"
        }
      },
      "execution_count": null,
      "outputs": [
        {
          "output_type": "stream",
          "name": "stdout",
          "text": [
            "a\n",
            "!\n",
            "n\n",
            "j\n"
          ]
        }
      ]
    },
    {
      "cell_type": "code",
      "source": [
        "strdata=\"my name is hyojin!\"\n",
        "print(strdata[2])\n",
        "print(strdata[-4])\n",
        "print(strdata[-2])\n",
        "print(strdata[-4])\n",
        "print(str_data[-1])\n",
        "print(str_data[-0])"
      ],
      "metadata": {
        "id": "VKulZYmMFbbn",
        "outputId": "c1ed40b7-f1af-4eb1-cec7-c217a1879555",
        "colab": {
          "base_uri": "https://localhost:8080/"
        }
      },
      "execution_count": null,
      "outputs": [
        {
          "output_type": "stream",
          "name": "stdout",
          "text": [
            " \n",
            "j\n",
            "n\n",
            "j\n",
            "n\n",
            "I\n"
          ]
        }
      ]
    },
    {
      "cell_type": "code",
      "source": [
        "listdata=[1,2,[3,4,5]]\n",
        "print(listdata[0])\n",
        "print(listdata[2])\n",
        "print(listdata[-1])\n",
        "print(listdata[2][-1])"
      ],
      "metadata": {
        "id": "75rl74fe0kZM",
        "outputId": "ffd0c6da-0f69-4935-92be-e3efdc207dad",
        "colab": {
          "base_uri": "https://localhost:8080/"
        }
      },
      "execution_count": null,
      "outputs": [
        {
          "output_type": "stream",
          "name": "stdout",
          "text": [
            "1\n",
            "[3, 4, 5]\n",
            "[3, 4, 5]\n",
            "5\n"
          ]
        }
      ]
    },
    {
      "cell_type": "code",
      "source": [
        "listdata=[1,2,[3,4,5,6]]\n",
        "print(listdata[0])\n",
        "print(listdata[2])"
      ],
      "metadata": {
        "id": "8b2BuqF1SuUx",
        "outputId": "d894c850-2509-4d09-a40b-413176fb4a29",
        "colab": {
          "base_uri": "https://localhost:8080/"
        }
      },
      "execution_count": null,
      "outputs": [
        {
          "output_type": "stream",
          "name": "stdout",
          "text": [
            "1\n",
            "[3, 4, 5, 6]\n"
          ]
        }
      ]
    },
    {
      "cell_type": "code",
      "source": [
        "listdata = [1, 2, [1,2,3]]\n",
        "print(listdata[0])\n",
        "print(listdata[-1])\n",
        "print(listdata[2][-1])"
      ],
      "metadata": {
        "id": "zki7vU-sGfHK",
        "outputId": "95d1790d-fc79-4f58-a838-8a02659ebdf1",
        "colab": {
          "base_uri": "https://localhost:8080/"
        }
      },
      "execution_count": null,
      "outputs": [
        {
          "output_type": "stream",
          "name": "stdout",
          "text": [
            "1\n",
            "[1, 2, 3]\n",
            "3\n"
          ]
        }
      ]
    },
    {
      "cell_type": "code",
      "source": [
        "list_data=['apple', 'banana', 'grapes', 'mango']\n",
        "print(list_data)\n",
        "list_data[0]=\"shine musket\"\n",
        "\n",
        "print(list_data)"
      ],
      "metadata": {
        "id": "lkB-5Uhi1kBe",
        "outputId": "18069903-dacd-412f-c4ef-032afc621e07",
        "colab": {
          "base_uri": "https://localhost:8080/"
        }
      },
      "execution_count": null,
      "outputs": [
        {
          "output_type": "stream",
          "name": "stdout",
          "text": [
            "['apple', 'banana', 'grapes', 'mango']\n",
            "['shine musket', 'banana', 'grapes', 'mango']\n"
          ]
        }
      ]
    },
    {
      "cell_type": "code",
      "source": [
        "list_data=['dog','cat','ant']\n",
        "print(list_data)\n",
        "list_data[0]=\"animal\"\n",
        "print(list_data)"
      ],
      "metadata": {
        "id": "9LWzcu_nF52C",
        "outputId": "a55cd103-1126-427c-d3e7-6bde35ab08a6",
        "colab": {
          "base_uri": "https://localhost:8080/"
        }
      },
      "execution_count": null,
      "outputs": [
        {
          "output_type": "stream",
          "name": "stdout",
          "text": [
            "['dog', 'cat', 'ant']\n",
            "['animal', 'cat', 'ant']\n"
          ]
        }
      ]
    },
    {
      "cell_type": "code",
      "source": [
        "#@markdown 📌 Apply indices to List data\n",
        "\n",
        "#@markdown ## Replacment by means of using incices\n",
        "\n",
        "list_data = ['apple', 'banana', 'grapes', 'mango']\n",
        "list_data[0]=\"shine musket\"\n",
        "\n",
        "print (list_data)"
      ],
      "metadata": {
        "id": "a7fl8AK3jCTR",
        "outputId": "166e4934-b6e9-4fcc-b5c5-030d5c46738f",
        "colab": {
          "base_uri": "https://localhost:8080/"
        }
      },
      "execution_count": null,
      "outputs": [
        {
          "output_type": "stream",
          "name": "stdout",
          "text": [
            "['shine musket', 'banana', 'grapes', 'mango']\n"
          ]
        }
      ]
    },
    {
      "cell_type": "code",
      "source": [
        "tuple_data=('apple','banana')\n",
        "print(tuple_data)\n",
        "\n",
        "tuple_data[0]=\"shine musket\""
      ],
      "metadata": {
        "id": "HCbnLRgx2c2T",
        "outputId": "a175bc50-1529-42f5-9035-a5930c7256f4",
        "colab": {
          "base_uri": "https://localhost:8080/",
          "height": 239
        }
      },
      "execution_count": null,
      "outputs": [
        {
          "output_type": "stream",
          "name": "stdout",
          "text": [
            "('apple', 'banana')\n"
          ]
        },
        {
          "output_type": "error",
          "ename": "TypeError",
          "evalue": "ignored",
          "traceback": [
            "\u001b[0;31m---------------------------------------------------------------------------\u001b[0m",
            "\u001b[0;31mTypeError\u001b[0m                                 Traceback (most recent call last)",
            "\u001b[0;32m<ipython-input-19-6133eab64c81>\u001b[0m in \u001b[0;36m<cell line: 4>\u001b[0;34m()\u001b[0m\n\u001b[1;32m      2\u001b[0m \u001b[0mprint\u001b[0m\u001b[0;34m(\u001b[0m\u001b[0mtuple_data\u001b[0m\u001b[0;34m)\u001b[0m\u001b[0;34m\u001b[0m\u001b[0;34m\u001b[0m\u001b[0m\n\u001b[1;32m      3\u001b[0m \u001b[0;34m\u001b[0m\u001b[0m\n\u001b[0;32m----> 4\u001b[0;31m \u001b[0mtuple_data\u001b[0m\u001b[0;34m[\u001b[0m\u001b[0;36m0\u001b[0m\u001b[0;34m]\u001b[0m\u001b[0;34m=\u001b[0m\u001b[0;34m\"shine musket\"\u001b[0m\u001b[0;34m\u001b[0m\u001b[0;34m\u001b[0m\u001b[0m\n\u001b[0m",
            "\u001b[0;31mTypeError\u001b[0m: 'tuple' object does not support item assignment"
          ]
        }
      ]
    },
    {
      "cell_type": "code",
      "source": [
        "#@markdown 👀 Apply indices to Tupple data\n",
        "\n",
        "#@markdown ### No Replacement for Tuple data (<font color = 'red'> TypeError</font> will pop up: <font color = 'red'>'tuple' object does not support item assignment)\n",
        "\n",
        "tuple_data = ('apple', 'banana', 'grapes', 'mango')\n",
        "tuple_data[0]=\"shine musket\"\n",
        "\n",
        "print (tuple_data)"
      ],
      "metadata": {
        "id": "u6Z0sSltvXSQ",
        "outputId": "2bcd9d79-b04d-44c9-9729-acae3a582548",
        "colab": {
          "base_uri": "https://localhost:8080/",
          "height": 236
        }
      },
      "execution_count": null,
      "outputs": [
        {
          "output_type": "error",
          "ename": "TypeError",
          "evalue": "ignored",
          "traceback": [
            "\u001b[0;31m---------------------------------------------------------------------------\u001b[0m",
            "\u001b[0;31mTypeError\u001b[0m                                 Traceback (most recent call last)",
            "\u001b[0;32m<ipython-input-9-7e8f143f0164>\u001b[0m in \u001b[0;36m<cell line: 6>\u001b[0;34m()\u001b[0m\n\u001b[1;32m      4\u001b[0m \u001b[0;34m\u001b[0m\u001b[0m\n\u001b[1;32m      5\u001b[0m \u001b[0mtuple_data\u001b[0m \u001b[0;34m=\u001b[0m \u001b[0;34m(\u001b[0m\u001b[0;34m'apple'\u001b[0m\u001b[0;34m,\u001b[0m \u001b[0;34m'banana'\u001b[0m\u001b[0;34m,\u001b[0m \u001b[0;34m'grapes'\u001b[0m\u001b[0;34m,\u001b[0m \u001b[0;34m'mango'\u001b[0m\u001b[0;34m)\u001b[0m\u001b[0;34m\u001b[0m\u001b[0;34m\u001b[0m\u001b[0m\n\u001b[0;32m----> 6\u001b[0;31m \u001b[0mtuple_data\u001b[0m\u001b[0;34m[\u001b[0m\u001b[0;36m0\u001b[0m\u001b[0;34m]\u001b[0m\u001b[0;34m=\u001b[0m\u001b[0;34m\"shine musket\"\u001b[0m\u001b[0;34m\u001b[0m\u001b[0;34m\u001b[0m\u001b[0m\n\u001b[0m\u001b[1;32m      7\u001b[0m \u001b[0;34m\u001b[0m\u001b[0m\n\u001b[1;32m      8\u001b[0m \u001b[0mprint\u001b[0m \u001b[0;34m(\u001b[0m\u001b[0mtuple_data\u001b[0m\u001b[0;34m)\u001b[0m\u001b[0;34m\u001b[0m\u001b[0;34m\u001b[0m\u001b[0m\n",
            "\u001b[0;31mTypeError\u001b[0m: 'tuple' object does not support item assignment"
          ]
        }
      ]
    },
    {
      "cell_type": "code",
      "source": [
        "#@markdown Slice sequence data\n",
        "\n",
        "str_data = 'Time is money!!'\n",
        "print(str_data[1:5])\n",
        "print(str_data[:7])\n",
        "print(str_data[9:])\n",
        "print(str_data[:-3])\n",
        "print(str_data[-3:])\n",
        "print(str_data[:])\n",
        "print(str_data[::2]) # 처음부터 끝까지 스텝을 2로 해서 슬라이싱 하기."
      ],
      "metadata": {
        "id": "gsv43biRGwT1",
        "outputId": "572ea240-9ae5-41c9-b1a7-676e68511762",
        "colab": {
          "base_uri": "https://localhost:8080/"
        }
      },
      "execution_count": null,
      "outputs": [
        {
          "output_type": "stream",
          "name": "stdout",
          "text": [
            "ime \n",
            "Time is\n",
            "oney!!\n",
            "Time is mone\n",
            "y!!\n",
            "Time is money!!\n",
            "Tm smny!\n"
          ]
        }
      ]
    },
    {
      "cell_type": "code",
      "source": [
        "seq = \"abcdefghijklmnopqrstuvwxyz\"\n",
        "print(seq[5:])\n",
        "print(seq[:-2])\n",
        "print(seq[::2])\n",
        "print(seq[::3])"
      ],
      "metadata": {
        "id": "jm_6Myp9rdfH",
        "outputId": "169ac9c0-8810-4434-807c-88775acac355",
        "colab": {
          "base_uri": "https://localhost:8080/"
        }
      },
      "execution_count": null,
      "outputs": [
        {
          "output_type": "stream",
          "name": "stdout",
          "text": [
            "fghijklmnopqrstuvwxyz\n",
            "abcdefghijklmnopqrstuvwx\n",
            "acegikmoqsuwy\n",
            "adgjmpsvy\n"
          ]
        }
      ]
    },
    {
      "cell_type": "code",
      "source": [
        "print(seq[25])\n",
        "print(len(seq))"
      ],
      "metadata": {
        "id": "wYx6wT80vha3",
        "outputId": "9fb0d285-9c9c-411c-ebf4-4eb227af44b5",
        "colab": {
          "base_uri": "https://localhost:8080/"
        }
      },
      "execution_count": null,
      "outputs": [
        {
          "output_type": "stream",
          "name": "stdout",
          "text": [
            "z\n",
            "26\n"
          ]
        }
      ]
    },
    {
      "cell_type": "markdown",
      "source": [
        "#시퀀스 자료 연결하기 (+)\n",
        "  -자료형이 동일한 두 개의 시퀀스 자료는 연결 가능\n",
        "  \n",
        "\n",
        "#시퀀스 자료 반복하기 (*숫자)"
      ],
      "metadata": {
        "id": "M_oQWafaH5Sf"
      }
    },
    {
      "cell_type": "code",
      "source": [
        "strdata1 = 'I love'; strdata2='Python'\n",
        "print (strdata1 + strdata2)\n",
        "print(strdata1*5)"
      ],
      "metadata": {
        "id": "9f7DeKbGIN4g",
        "outputId": "6ff5eff0-9e0c-43bf-9ef1-ab288d9f2110",
        "colab": {
          "base_uri": "https://localhost:8080/"
        }
      },
      "execution_count": null,
      "outputs": [
        {
          "output_type": "stream",
          "name": "stdout",
          "text": [
            "I lovePython\n",
            "I loveI loveI loveI loveI love\n"
          ]
        }
      ]
    },
    {
      "cell_type": "code",
      "source": [
        "strdata1='love'; strdata2= 'python'\n",
        "print(strdata1 + strdata2)\n",
        "print(strdata1 + ' '+ strdata2)"
      ],
      "metadata": {
        "id": "b-fZGxEGsbLF",
        "outputId": "3cb30e5f-2a67-4bc5-d7d4-180262a8a0c0",
        "colab": {
          "base_uri": "https://localhost:8080/"
        }
      },
      "execution_count": null,
      "outputs": [
        {
          "output_type": "stream",
          "name": "stdout",
          "text": [
            "lovepython\n",
            "love python\n"
          ]
        }
      ]
    },
    {
      "cell_type": "markdown",
      "source": [
        "###  👀 🐾 **Make a wild guess how to <font color = 'red'> add space</font> between 'love' and 'Python.'**"
      ],
      "metadata": {
        "id": "KVg9q5iWqAlN"
      }
    },
    {
      "cell_type": "code",
      "source": [
        "#@markdown 💊 **Possibility 1️⃣ 💡**\n",
        "\n",
        "strdata1 = 'I love '; strdata2='Python'\n",
        "print (strdata1 + strdata2)"
      ],
      "metadata": {
        "cellView": "form",
        "id": "rknO5rNWqMN_"
      },
      "execution_count": null,
      "outputs": []
    },
    {
      "cell_type": "code",
      "source": [
        "#@markdown 💊 **Possibility 2️⃣ 💡**\n",
        "\n",
        "strdata1 = 'I love '; strdata2=' Python'\n",
        "print (strdata1 + strdata2)"
      ],
      "metadata": {
        "cellView": "form",
        "id": "KFsPImzMrW05"
      },
      "execution_count": null,
      "outputs": []
    },
    {
      "cell_type": "code",
      "source": [
        "#@markdown 💊 **Possibility 3️⃣ 💡**\n",
        "\n",
        "strdata1 = 'I love'; strdata0 = ' '; strdata2='Python'\n",
        "print (strdata1 + strdata0 + strdata2)"
      ],
      "metadata": {
        "cellView": "form",
        "id": "guhCjTVJrmyh"
      },
      "execution_count": null,
      "outputs": []
    },
    {
      "cell_type": "code",
      "source": [
        "subject='BTS'; verb='sings'; object='Butter'; space = ' '\n",
        "print(subject + verb + object)\n",
        "print(subject+' '+verb+' '+object)\n",
        "print(subject + space + verb +space + object)\n",
        "print(subject + space + verb + space +object*1000)"
      ],
      "metadata": {
        "id": "J4t7vviqtz6h",
        "outputId": "e37b3c5b-4e6b-4f87-f6e2-f0b8934f55d9",
        "colab": {
          "base_uri": "https://localhost:8080/"
        }
      },
      "execution_count": null,
      "outputs": [
        {
          "output_type": "stream",
          "name": "stdout",
          "text": [
            "BTSsingsButter\n",
            "BTS sings Butter\n",
            "BTS sings Butter\n",
            "BTS sings ButterButterButterButterButterButterButterButterButterButterButterButterButterButterButterButterButterButterButterButterButterButterButterButterButterButterButterButterButterButterButterButterButterButterButterButterButterButterButterButterButterButterButterButterButterButterButterButterButterButterButterButterButterButterButterButterButterButterButterButterButterButterButterButterButterButterButterButterButterButterButterButterButterButterButterButterButterButterButterButterButterButterButterButterButterButterButterButterButterButterButterButterButterButterButterButterButterButterButterButterButterButterButterButterButterButterButterButterButterButterButterButterButterButterButterButterButterButterButterButterButterButterButterButterButterButterButterButterButterButterButterButterButterButterButterButterButterButterButterButterButterButterButterButterButterButterButterButterButterButterButterButterButterButterButterButterButterButterButterButterButterButterButterButterButterButterButterButterButterButterButterButterButterButterButterButterButterButterButterButterButterButterButterButterButterButterButterButterButterButterButterButterButterButterButterButterButterButterButterButterButterButterButterButterButterButterButterButterButterButterButterButterButterButterButterButterButterButterButterButterButterButterButterButterButterButterButterButterButterButterButterButterButterButterButterButterButterButterButterButterButterButterButterButterButterButterButterButterButterButterButterButterButterButterButterButterButterButterButterButterButterButterButterButterButterButterButterButterButterButterButterButterButterButterButterButterButterButterButterButterButterButterButterButterButterButterButterButterButterButterButterButterButterButterButterButterButterButterButterButterButterButterButterButterButterButterButterButterButterButterButterButterButterButterButterButterButterButterButterButterButterButterButterButterButterButterButterButterButterButterButterButterButterButterButterButterButterButterButterButterButterButterButterButterButterButterButterButterButterButterButterButterButterButterButterButterButterButterButterButterButterButterButterButterButterButterButterButterButterButterButterButterButterButterButterButterButterButterButterButterButterButterButterButterButterButterButterButterButterButterButterButterButterButterButterButterButterButterButterButterButterButterButterButterButterButterButterButterButterButterButterButterButterButterButterButterButterButterButterButterButterButterButterButterButterButterButterButterButterButterButterButterButterButterButterButterButterButterButterButterButterButterButterButterButterButterButterButterButterButterButterButterButterButterButterButterButterButterButterButterButterButterButterButterButterButterButterButterButterButterButterButterButterButterButterButterButterButterButterButterButterButterButterButterButterButterButterButterButterButterButterButterButterButterButterButterButterButterButterButterButterButterButterButterButterButterButterButterButterButterButterButterButterButterButterButterButterButterButterButterButterButterButterButterButterButterButterButterButterButterButterButterButterButterButterButterButterButterButterButterButterButterButterButterButterButterButterButterButterButterButterButterButterButterButterButterButterButterButterButterButterButterButterButterButterButterButterButterButterButterButterButterButterButterButterButterButterButterButterButterButterButterButterButterButterButterButterButterButterButterButterButterButterButterButterButterButterButterButterButterButterButterButterButterButterButterButterButterButterButterButterButterButterButterButterButterButterButterButterButterButterButterButterButterButterButterButterButterButterButterButterButterButterButterButterButterButterButterButterButterButterButterButterButterButterButterButterButterButterButterButterButterButterButterButterButterButterButterButterButterButterButterButterButterButterButterButterButterButterButterButterButterButterButterButterButterButterButterButterButterButterButterButterButterButterButterButterButterButterButterButterButterButterButterButterButterButterButterButterButterButterButterButterButterButterButterButterButterButterButterButterButterButterButterButterButterButterButterButterButterButterButterButterButterButterButterButterButterButterButterButterButterButterButterButterButterButterButterButterButterButterButterButterButterButterButterButterButterButterButterButterButterButterButterButterButterButterButterButterButterButterButterButterButterButterButterButterButterButterButterButterButterButterButterButterButterButterButterButterButterButterButterButterButterButterButterButterButterButterButterButterButterButterButterButterButterButterButterButterButterButterButterButterButterButterButterButterButterButterButterButterButterButterButterButterButterButterButterButterButterButterButterButterButterButterButterButterButterButterButterButterButterButterButterButterButterButterButterButterButterButterButterButterButterButterButterButterButterButterButterButterButterButterButterButterButterButterButterButterButterButterButterButterButterButterButterButterButterButterButterButterButterButterButterButterButterButterButterButterButterButterButterButterButterButterButterButterButterButterButterButterButterButterButterButterButterButterButterButterButterButterButterButterButterButterButterButterButterButterButterButterButterButterButterButterButterButterButterButterButterButterButterButterButterButterButterButterButterButterButterButterButterButterButterButterButterButterButterButterButterButterButterButterButterButterButterButterButterButterButterButterButterButterButterButterButterButterButterButterButterButterButterButterButterButterButterButterButterButterButterButterButterButterButterButterButterButterButterButterButterButterButterButterButterButterButterButterButterButterButterButterButterButterButterButterButterButterButterButterButter\n"
          ]
        }
      ]
    },
    {
      "cell_type": "code",
      "source": [
        "subject='bts';verb='sings';object='butter';space=''\n",
        "print(subject+verb+object)\n",
        "print(subject+' '+verb+' '+object)\n",
        "print(subject + space + verb + space + object)\n",
        "print(subject + space + verb + space + object*10 )"
      ],
      "metadata": {
        "id": "DHXJSFxUR9Xx",
        "outputId": "2dee2f65-50b3-4a68-facd-352ffb355294",
        "colab": {
          "base_uri": "https://localhost:8080/"
        }
      },
      "execution_count": null,
      "outputs": [
        {
          "output_type": "stream",
          "name": "stdout",
          "text": [
            "btssingsbutter\n",
            "bts sings butter\n",
            "btssingsbutter\n",
            "btssingsbutterbutterbutterbutterbutterbutterbutterbutterbutterbutter\n"
          ]
        }
      ]
    },
    {
      "cell_type": "code",
      "source": [
        "subject='blackpink';verb='sings';object='rose'\n",
        "print(subject+verb+object)\n",
        "print(subject+' '+verb+' '+object)"
      ],
      "metadata": {
        "id": "fsfSKLMoTEC0",
        "outputId": "0057d30e-2a39-4460-9fc9-b5715b149fc3",
        "colab": {
          "base_uri": "https://localhost:8080/"
        }
      },
      "execution_count": null,
      "outputs": [
        {
          "output_type": "stream",
          "name": "stdout",
          "text": [
            "blackpinksingsrose\n",
            "blackpink sings rose\n"
          ]
        }
      ]
    },
    {
      "cell_type": "code",
      "source": [
        "subject = 'BTS'; verb= 'sings'; object = 'butter'\n",
        "sentence = subject + verb + object * 5\n",
        "print (sentence)\n"
      ],
      "metadata": {
        "id": "4Cx2C_BTIpQy",
        "outputId": "1c453f45-b523-431b-d239-5300dcfdf0b7",
        "colab": {
          "base_uri": "https://localhost:8080/"
        }
      },
      "execution_count": null,
      "outputs": [
        {
          "output_type": "stream",
          "name": "stdout",
          "text": [
            "BTSsingsbutterbutterbutterbutterbutter\n"
          ]
        }
      ]
    },
    {
      "cell_type": "code",
      "source": [
        "subject='BTS';verb='sing';object='butter'\n",
        "sentence=subject+verb+object*5\n",
        "print(sentence)"
      ],
      "metadata": {
        "id": "Z0q-Xv2xoEYq",
        "outputId": "603da417-c9e2-4a45-f5f9-fd8abb33b2cf",
        "colab": {
          "base_uri": "https://localhost:8080/"
        }
      },
      "execution_count": null,
      "outputs": [
        {
          "output_type": "stream",
          "name": "stdout",
          "text": [
            "BTSsingbutterbutterbutterbutterbutter\n"
          ]
        }
      ]
    },
    {
      "cell_type": "code",
      "source": [],
      "metadata": {
        "id": "cHw7tzkqtw3y"
      },
      "execution_count": null,
      "outputs": []
    },
    {
      "cell_type": "code",
      "source": [
        "#@markdown 💊 Possibility 1️⃣ 💡\n",
        "\n",
        "subject = 'BTS '; verb= 'sings '; object = 'butter'\n",
        "sentence = subject + verb + object * 5"
      ],
      "metadata": {
        "id": "fvOfcWA9uOfJ"
      },
      "execution_count": null,
      "outputs": []
    },
    {
      "cell_type": "code",
      "source": [
        "#@markdown 시퀀스 자료 크기 이해하기 (len)  중요!\n",
        "\n",
        "str_data = 'I love Python'\n",
        "print(len(str_data))"
      ],
      "metadata": {
        "id": "-Y7LAfeXKDsO",
        "outputId": "b362da3c-074a-4835-a269-18c6d2aa21bc",
        "colab": {
          "base_uri": "https://localhost:8080/"
        }
      },
      "execution_count": null,
      "outputs": [
        {
          "output_type": "stream",
          "name": "stdout",
          "text": [
            "13\n"
          ]
        }
      ]
    },
    {
      "cell_type": "code",
      "source": [
        "str_data='I love me'\n",
        "print(len(str_data))"
      ],
      "metadata": {
        "id": "-CBJJTAUTv_N",
        "outputId": "eb83434f-41ba-43c3-ade6-e7a52a819f46",
        "colab": {
          "base_uri": "https://localhost:8080/"
        }
      },
      "execution_count": null,
      "outputs": [
        {
          "output_type": "stream",
          "name": "stdout",
          "text": [
            "9\n"
          ]
        }
      ]
    },
    {
      "cell_type": "code",
      "source": [
        "strdata3 = 'Notice Regarding Limited Access to MMCA Hyundai Motor Series 2023'"
      ],
      "metadata": {
        "id": "aUzak-8AvYUS"
      },
      "execution_count": null,
      "outputs": []
    },
    {
      "cell_type": "code",
      "source": [
        "print(len(strdata3))\n",
        "print(strdata3[64])"
      ],
      "metadata": {
        "id": "CRWYAMjpxRld",
        "outputId": "0390c229-8160-482e-f760-ff5216dd054b",
        "colab": {
          "base_uri": "https://localhost:8080/"
        }
      },
      "execution_count": null,
      "outputs": [
        {
          "output_type": "stream",
          "name": "stdout",
          "text": [
            "65\n",
            "3\n"
          ]
        }
      ]
    }
  ]
}