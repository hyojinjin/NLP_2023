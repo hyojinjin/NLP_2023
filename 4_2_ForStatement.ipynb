{
  "nbformat": 4,
  "nbformat_minor": 0,
  "metadata": {
    "colab": {
      "provenance": [],
      "include_colab_link": true
    },
    "kernelspec": {
      "name": "python3",
      "display_name": "Python 3"
    },
    "language_info": {
      "name": "python"
    }
  },
  "cells": [
    {
      "cell_type": "markdown",
      "metadata": {
        "id": "view-in-github",
        "colab_type": "text"
      },
      "source": [
        "<a href=\"https://colab.research.google.com/github/hyojinjin/NLP_2023/blob/main/4_2_ForStatement.ipynb\" target=\"_parent\"><img src=\"https://colab.research.google.com/assets/colab-badge.svg\" alt=\"Open In Colab\"/></a>"
      ]
    },
    {
      "cell_type": "markdown",
      "source": [
        "# 🅰️ **FOR statement** 🔄 Loop  \n",
        "\"for statement\" enable you to extract each one of elements (i.e., from 1st element to the last from an object객체 or a certain range of data특정 범위의 자료).\n",
        "\n",
        "- #### <font color='red'> Example</font> from 파이썬 200제\n",
        "\n",
        "        for 구성요소 in 범위:  #list, tuple, dictionary, range\n",
        "            반복으로 실행할 코드 #e.g., 수행할 문장\n",
        "        \n",
        "          or/and  \n",
        "\n",
        "        for 아래 코드라인 변수 in 범위:\n",
        "            반복으로 실행할 코드  #e.g., 수행할 문장\n"
      ],
      "metadata": {
        "id": "4F2oj2G8OITt"
      }
    },
    {
      "cell_type": "code",
      "execution_count": null,
      "metadata": {
        "id": "j0T81ZhAm6vm",
        "outputId": "91667b72-d485-4282-e21a-5947cdaf5065",
        "colab": {
          "base_uri": "https://localhost:8080/"
        }
      },
      "outputs": [
        {
          "output_type": "stream",
          "name": "stdout",
          "text": [
            "1\n",
            "2\n",
            "3\n",
            "4\n",
            "5\n",
            "6\n",
            "7\n",
            "8\n",
            "9\n"
          ]
        }
      ],
      "source": [
        "numbers = 1,2,3,4,5,6,7,8,9\n",
        "\n",
        "for i in numbers: # 'i' represents for integers.\n",
        "  print(i)"
      ]
    },
    {
      "cell_type": "code",
      "source": [
        "numbers=1,2,3,4,5,6,7,8,9\n",
        "for i in numbers:\n",
        "  print(i)"
      ],
      "metadata": {
        "id": "pdyxG-vFYL5C",
        "outputId": "25c6ac9c-f810-46cd-b7aa-e6e3c3734a4c",
        "colab": {
          "base_uri": "https://localhost:8080/"
        }
      },
      "execution_count": null,
      "outputs": [
        {
          "output_type": "stream",
          "name": "stdout",
          "text": [
            "1\n",
            "2\n",
            "3\n",
            "4\n",
            "5\n",
            "6\n",
            "7\n",
            "8\n",
            "9\n"
          ]
        }
      ]
    },
    {
      "cell_type": "code",
      "source": [
        "numbers=1,2,3,4,5,6,7,8,9\n",
        "for i in numbers:\n",
        "  print(i)"
      ],
      "metadata": {
        "id": "yuHL8vmdK2pj",
        "outputId": "0099d5e0-e477-4e88-f78e-857bee749556",
        "colab": {
          "base_uri": "https://localhost:8080/"
        }
      },
      "execution_count": null,
      "outputs": [
        {
          "output_type": "stream",
          "name": "stdout",
          "text": [
            "1\n",
            "2\n",
            "3\n",
            "4\n",
            "5\n",
            "6\n",
            "7\n",
            "8\n",
            "9\n"
          ]
        }
      ]
    },
    {
      "cell_type": "code",
      "source": [
        "numbers=1,2,3,4,5,6,7,8,9\n",
        "for i in numbers:\n",
        "  print(i)"
      ],
      "metadata": {
        "id": "uEgtrQ3owGD2",
        "outputId": "6a2a88fc-1dde-4bdc-a179-e51526f203b1",
        "colab": {
          "base_uri": "https://localhost:8080/"
        }
      },
      "execution_count": null,
      "outputs": [
        {
          "output_type": "stream",
          "name": "stdout",
          "text": [
            "1\n",
            "2\n",
            "3\n",
            "4\n",
            "5\n",
            "6\n",
            "7\n",
            "8\n",
            "9\n"
          ]
        }
      ]
    },
    {
      "cell_type": "code",
      "source": [
        "numbers=1,2,3,4,5,6,7,8,9\n",
        "for i in numbers:\n",
        "  print(i)"
      ],
      "metadata": {
        "id": "QV0N6NGvuhdN",
        "outputId": "945d17c5-b61d-4557-9537-063019f921e7",
        "colab": {
          "base_uri": "https://localhost:8080/"
        }
      },
      "execution_count": null,
      "outputs": [
        {
          "output_type": "stream",
          "name": "stdout",
          "text": [
            "1\n",
            "2\n",
            "3\n",
            "4\n",
            "5\n",
            "6\n",
            "7\n",
            "8\n",
            "9\n"
          ]
        }
      ]
    },
    {
      "cell_type": "code",
      "source": [
        "numbers=1,2,3,4,5,6,7,8,9\n",
        "for i in numbers:\n",
        "  print(i)"
      ],
      "metadata": {
        "id": "h07epUrdDsOZ",
        "outputId": "b8e11a28-283d-43b0-927e-12144931c2f3",
        "colab": {
          "base_uri": "https://localhost:8080/"
        }
      },
      "execution_count": null,
      "outputs": [
        {
          "output_type": "stream",
          "name": "stdout",
          "text": [
            "1\n",
            "2\n",
            "3\n",
            "4\n",
            "5\n",
            "6\n",
            "7\n",
            "8\n",
            "9\n"
          ]
        }
      ]
    },
    {
      "cell_type": "code",
      "source": [
        "numbers=1,2,3,4,5,6,7,8,9\n",
        "for i in numbers:\n",
        "  print(i)"
      ],
      "metadata": {
        "id": "tkdUToK-20pQ",
        "outputId": "43f8eaa5-8dc4-42e6-e01f-bfeb214d24cf",
        "colab": {
          "base_uri": "https://localhost:8080/"
        }
      },
      "execution_count": null,
      "outputs": [
        {
          "output_type": "stream",
          "name": "stdout",
          "text": [
            "1\n",
            "2\n",
            "3\n",
            "4\n",
            "5\n",
            "6\n",
            "7\n",
            "8\n",
            "9\n"
          ]
        }
      ]
    },
    {
      "cell_type": "code",
      "source": [
        "#@markdown Similar exercise for a For Statement.\n",
        "\n",
        "scope = [1,2,3,4,5]\n",
        "\n",
        "for x in scope: # Any alphabet of your choice can be anything after \"for\" work.\n",
        "  print(x)"
      ],
      "metadata": {
        "id": "yg6N6sHSElwD",
        "outputId": "d7380eef-1262-4741-fbd3-b7ef1f823641",
        "colab": {
          "base_uri": "https://localhost:8080/"
        }
      },
      "execution_count": null,
      "outputs": [
        {
          "output_type": "stream",
          "name": "stdout",
          "text": [
            "1\n",
            "2\n",
            "3\n",
            "4\n",
            "5\n"
          ]
        }
      ]
    },
    {
      "cell_type": "code",
      "source": [
        "scope=[1,2,3,4,5]\n",
        "for i in scope:\n",
        "  print(i)"
      ],
      "metadata": {
        "id": "0UjWjO4yYUvH",
        "outputId": "340ca5a5-8c0d-49db-acf3-3877d5578553",
        "colab": {
          "base_uri": "https://localhost:8080/"
        }
      },
      "execution_count": null,
      "outputs": [
        {
          "output_type": "stream",
          "name": "stdout",
          "text": [
            "1\n",
            "2\n",
            "3\n",
            "4\n",
            "5\n"
          ]
        }
      ]
    },
    {
      "cell_type": "code",
      "source": [
        "scope=[1,2,3,4,5]\n",
        "for i in scope:\n",
        "  print(i)"
      ],
      "metadata": {
        "id": "ndR1QrJ1LADD",
        "outputId": "4ded94eb-427e-484a-db57-47ec5ad340b3",
        "colab": {
          "base_uri": "https://localhost:8080/"
        }
      },
      "execution_count": null,
      "outputs": [
        {
          "output_type": "stream",
          "name": "stdout",
          "text": [
            "1\n",
            "2\n",
            "3\n",
            "4\n",
            "5\n"
          ]
        }
      ]
    },
    {
      "cell_type": "code",
      "source": [
        "scope=[1,2,3,4,5]\n",
        "for i in scope:\n",
        "  print(i)"
      ],
      "metadata": {
        "id": "FRpi07dpwSlG",
        "outputId": "b57fcbef-92eb-46d9-b613-2c94b8903c51",
        "colab": {
          "base_uri": "https://localhost:8080/"
        }
      },
      "execution_count": null,
      "outputs": [
        {
          "output_type": "stream",
          "name": "stdout",
          "text": [
            "1\n",
            "2\n",
            "3\n",
            "4\n",
            "5\n"
          ]
        }
      ]
    },
    {
      "cell_type": "code",
      "source": [
        "scope=[1,2,3,4,5]\n",
        "for x in scope:\n",
        "  print(x)"
      ],
      "metadata": {
        "id": "YtHHg80LuvUN",
        "outputId": "40c2dcd8-c957-4acf-9782-8840dbaf21c8",
        "colab": {
          "base_uri": "https://localhost:8080/"
        }
      },
      "execution_count": null,
      "outputs": [
        {
          "output_type": "stream",
          "name": "stdout",
          "text": [
            "1\n",
            "2\n",
            "3\n",
            "4\n",
            "5\n"
          ]
        }
      ]
    },
    {
      "cell_type": "code",
      "source": [
        "scope=[1,2,3,4,5]\n",
        "for x in scope:\n",
        "  print(x)"
      ],
      "metadata": {
        "id": "D37T6il7D7pf",
        "outputId": "a2f9086f-c1c1-4736-feab-d5488d785d6c",
        "colab": {
          "base_uri": "https://localhost:8080/"
        }
      },
      "execution_count": null,
      "outputs": [
        {
          "output_type": "stream",
          "name": "stdout",
          "text": [
            "1\n",
            "2\n",
            "3\n",
            "4\n",
            "5\n"
          ]
        }
      ]
    },
    {
      "cell_type": "code",
      "source": [
        "scope = [1,2,3,4,5]\n",
        "for x in scope:\n",
        "  print(x)"
      ],
      "metadata": {
        "id": "iurf2TG53tTP",
        "outputId": "ebeb753f-cac3-494e-b268-1df5622ae0c3",
        "colab": {
          "base_uri": "https://localhost:8080/"
        }
      },
      "execution_count": null,
      "outputs": [
        {
          "output_type": "stream",
          "name": "stdout",
          "text": [
            "1\n",
            "2\n",
            "3\n",
            "4\n",
            "5\n"
          ]
        }
      ]
    },
    {
      "cell_type": "code",
      "source": [
        "food = ['치킨','피자','떡볶이','샤브샤브']\n",
        "for x in food:\n",
        "  print(x)"
      ],
      "metadata": {
        "id": "AbXugjKA4Jd-",
        "outputId": "e4b10e94-40da-4036-892e-5d834f30ea3a",
        "colab": {
          "base_uri": "https://localhost:8080/"
        }
      },
      "execution_count": null,
      "outputs": [
        {
          "output_type": "stream",
          "name": "stdout",
          "text": [
            "치킨\n",
            "피자\n",
            "떡볶이\n",
            "샤브샤브\n"
          ]
        }
      ]
    },
    {
      "cell_type": "code",
      "source": [
        "food=['치킨','피자','샤브샤브','규카츠']\n",
        "for i in food:\n",
        "  print(i)"
      ],
      "metadata": {
        "id": "08F9bK8AYbmP",
        "outputId": "d457e12a-e484-4d98-828b-161975f774be",
        "colab": {
          "base_uri": "https://localhost:8080/"
        }
      },
      "execution_count": null,
      "outputs": [
        {
          "output_type": "stream",
          "name": "stdout",
          "text": [
            "치킨\n",
            "피자\n",
            "샤브샤브\n",
            "규카츠\n"
          ]
        }
      ]
    },
    {
      "cell_type": "code",
      "source": [
        "food=['치킨','피자','떡볶이','샤브샤브']\n",
        "for i in food:\n",
        "  print(i)"
      ],
      "metadata": {
        "id": "SVF0OQWDLHT8",
        "outputId": "21b1b1aa-3551-4c60-d4c7-8dc19677af45",
        "colab": {
          "base_uri": "https://localhost:8080/"
        }
      },
      "execution_count": null,
      "outputs": [
        {
          "output_type": "stream",
          "name": "stdout",
          "text": [
            "치킨\n",
            "피자\n",
            "떡볶이\n",
            "샤브샤브\n"
          ]
        }
      ]
    },
    {
      "cell_type": "code",
      "source": [
        "food=['치킨','피자','버팔로윙','규카츠']\n",
        "for i in food:\n",
        "  print(i)"
      ],
      "metadata": {
        "id": "Ihg6F5l-wx83",
        "outputId": "6781cac0-b721-44be-886a-34aa749507c9",
        "colab": {
          "base_uri": "https://localhost:8080/"
        }
      },
      "execution_count": null,
      "outputs": [
        {
          "output_type": "stream",
          "name": "stdout",
          "text": [
            "치킨\n",
            "피자\n",
            "버팔로윙\n",
            "규카츠\n"
          ]
        }
      ]
    },
    {
      "cell_type": "code",
      "source": [
        "food=['치킨','피자','떡볶이','샤브샤브']\n",
        "for x in food:\n",
        "  print(x)"
      ],
      "metadata": {
        "id": "Razbi5_Gu6rX",
        "outputId": "0213480b-87dc-498a-de36-c3d508de0901",
        "colab": {
          "base_uri": "https://localhost:8080/"
        }
      },
      "execution_count": null,
      "outputs": [
        {
          "output_type": "stream",
          "name": "stdout",
          "text": [
            "치킨\n",
            "피자\n",
            "떡볶이\n",
            "샤브샤브\n"
          ]
        }
      ]
    },
    {
      "cell_type": "code",
      "source": [
        "food=['치킨','피자','떡볶이','샤브샤브']\n",
        "for x in food:\n",
        "  print(x)"
      ],
      "metadata": {
        "id": "TUk6bmhICY40",
        "outputId": "ebe130d3-3f4e-4bce-c84b-d18bc68a73a8",
        "colab": {
          "base_uri": "https://localhost:8080/"
        }
      },
      "execution_count": null,
      "outputs": [
        {
          "output_type": "stream",
          "name": "stdout",
          "text": [
            "치킨\n",
            "피자\n",
            "떡볶이\n",
            "샤브샤브\n"
          ]
        }
      ]
    },
    {
      "cell_type": "code",
      "source": [
        "home=['TV','mom','dad','brother','pet']\n",
        "for x in home:\n",
        "  print(x)"
      ],
      "metadata": {
        "id": "ku5cfEQbEGoY",
        "outputId": "bbf45af5-c41f-4ce9-efea-7a1eb5f68f25",
        "colab": {
          "base_uri": "https://localhost:8080/"
        }
      },
      "execution_count": null,
      "outputs": [
        {
          "output_type": "stream",
          "name": "stdout",
          "text": [
            "TV\n",
            "mom\n",
            "dad\n",
            "brother\n",
            "pet\n"
          ]
        }
      ]
    },
    {
      "cell_type": "code",
      "source": [
        "here = ['teacher','pen','pencase','note']\n",
        "for x in here:\n",
        "  print(x)"
      ],
      "metadata": {
        "id": "rtdk8pnkoo15",
        "outputId": "d6951b1f-8c74-4107-fd3c-465d38531583",
        "colab": {
          "base_uri": "https://localhost:8080/"
        }
      },
      "execution_count": null,
      "outputs": [
        {
          "output_type": "stream",
          "name": "stdout",
          "text": [
            "teacher\n",
            "pen\n",
            "pencase\n",
            "note\n"
          ]
        }
      ]
    },
    {
      "cell_type": "code",
      "source": [
        "#@markdown Similar exercise for a For Statement.\n",
        "\n",
        "scope = [1,2,3,4,5]\n",
        "\n",
        "for y in scope: # An alphabet can be anything you like after 'for'.\n",
        "  print(y)"
      ],
      "metadata": {
        "id": "NdwPi8lpFMXZ",
        "outputId": "d8551c84-e290-4f7a-b039-661fcb478746",
        "colab": {
          "base_uri": "https://localhost:8080/"
        }
      },
      "execution_count": null,
      "outputs": [
        {
          "output_type": "stream",
          "name": "stdout",
          "text": [
            "1\n",
            "2\n",
            "3\n",
            "4\n",
            "5\n"
          ]
        }
      ]
    },
    {
      "cell_type": "code",
      "source": [],
      "metadata": {
        "id": "n5AJdFZe4_4V"
      },
      "execution_count": null,
      "outputs": []
    },
    {
      "cell_type": "code",
      "source": [
        "scope=[1,2,3,4,5]\n",
        "for i in scope:\n",
        "  print(i)"
      ],
      "metadata": {
        "id": "gbdkC7X0LXhg",
        "outputId": "c4d78912-b05a-4bd9-c1a7-b2eef75d652a",
        "colab": {
          "base_uri": "https://localhost:8080/"
        }
      },
      "execution_count": null,
      "outputs": [
        {
          "output_type": "stream",
          "name": "stdout",
          "text": [
            "1\n",
            "2\n",
            "3\n",
            "4\n",
            "5\n"
          ]
        }
      ]
    },
    {
      "cell_type": "markdown",
      "source": [
        "##👀 Before you run the following code lines for a FOR Statement, you need to know the following.\n",
        "\n",
        "💊 Objects객체 used in FOR statements are i) string, ii) list or tuple, iii) dictionary, iv) range(). They are characterized by repeatable objects.  \n",
        "\n",
        "    The results depend on the number in (range 범위).\n",
        "    e.g., range(0) ➡️  NONE, range(1) ➡️ 0, range(2) ➡️ 0,1, etc.  \n",
        "\n"
      ],
      "metadata": {
        "id": "qkd3saTwMQxP"
      }
    },
    {
      "cell_type": "code",
      "source": [
        "for i in range(1):\n",
        "  print (i)\n",
        "\n",
        "type(i)"
      ],
      "metadata": {
        "colab": {
          "base_uri": "https://localhost:8080/"
        },
        "id": "hVMDNqeIuNd8",
        "outputId": "3831947b-817e-4bbf-93a9-f94b41b2bc71"
      },
      "execution_count": null,
      "outputs": [
        {
          "output_type": "stream",
          "name": "stdout",
          "text": [
            "0\n"
          ]
        },
        {
          "output_type": "execute_result",
          "data": {
            "text/plain": [
              "int"
            ]
          },
          "metadata": {},
          "execution_count": 5
        }
      ]
    },
    {
      "cell_type": "code",
      "source": [
        "for i in range(5):\n",
        "  print(i)\n",
        "type(i)"
      ],
      "metadata": {
        "id": "Q7BlWi97Yt39",
        "outputId": "ff63d2fe-ba73-4ffe-8df8-a7b8a9d912ce",
        "colab": {
          "base_uri": "https://localhost:8080/"
        }
      },
      "execution_count": null,
      "outputs": [
        {
          "output_type": "stream",
          "name": "stdout",
          "text": [
            "0\n",
            "1\n",
            "2\n",
            "3\n",
            "4\n"
          ]
        },
        {
          "output_type": "execute_result",
          "data": {
            "text/plain": [
              "int"
            ]
          },
          "metadata": {},
          "execution_count": 5
        }
      ]
    },
    {
      "cell_type": "code",
      "source": [
        "for i in range(10):\n",
        "  print(i)"
      ],
      "metadata": {
        "id": "gxszTNw7Y04I",
        "outputId": "c8978760-204b-4e1e-c489-618ca875e528",
        "colab": {
          "base_uri": "https://localhost:8080/"
        }
      },
      "execution_count": null,
      "outputs": [
        {
          "output_type": "stream",
          "name": "stdout",
          "text": [
            "0\n",
            "1\n",
            "2\n",
            "3\n",
            "4\n",
            "5\n",
            "6\n",
            "7\n",
            "8\n",
            "9\n"
          ]
        }
      ]
    },
    {
      "cell_type": "code",
      "source": [
        "for i in range(1):\n",
        "  print(i)\n",
        "type(i)"
      ],
      "metadata": {
        "id": "_o5HrUksLfb_",
        "outputId": "e67f67b5-979f-4a69-b420-5b9a2bb58ee1",
        "colab": {
          "base_uri": "https://localhost:8080/"
        }
      },
      "execution_count": null,
      "outputs": [
        {
          "output_type": "stream",
          "name": "stdout",
          "text": [
            "0\n"
          ]
        },
        {
          "output_type": "execute_result",
          "data": {
            "text/plain": [
              "int"
            ]
          },
          "metadata": {},
          "execution_count": 9
        }
      ]
    },
    {
      "cell_type": "code",
      "source": [
        "for i in range(5):\n",
        "  print(i)\n",
        "type(i)\n"
      ],
      "metadata": {
        "id": "iAFce4ozLqWu",
        "outputId": "6a831f7b-69e3-4e53-bc05-ed4d617aa336",
        "colab": {
          "base_uri": "https://localhost:8080/"
        }
      },
      "execution_count": null,
      "outputs": [
        {
          "output_type": "stream",
          "name": "stdout",
          "text": [
            "0\n",
            "1\n",
            "2\n",
            "3\n",
            "4\n"
          ]
        },
        {
          "output_type": "execute_result",
          "data": {
            "text/plain": [
              "int"
            ]
          },
          "metadata": {},
          "execution_count": 10
        }
      ]
    },
    {
      "cell_type": "code",
      "source": [
        "for i in range(6):\n",
        "  print(i)\n",
        "type(i)"
      ],
      "metadata": {
        "id": "PU-eWDx0w-85",
        "outputId": "56b0fdad-3e13-4ccf-93b3-de62d9410b80",
        "colab": {
          "base_uri": "https://localhost:8080/"
        }
      },
      "execution_count": null,
      "outputs": [
        {
          "output_type": "stream",
          "name": "stdout",
          "text": [
            "0\n",
            "1\n",
            "2\n",
            "3\n",
            "4\n",
            "5\n"
          ]
        },
        {
          "output_type": "execute_result",
          "data": {
            "text/plain": [
              "int"
            ]
          },
          "metadata": {},
          "execution_count": 5
        }
      ]
    },
    {
      "cell_type": "code",
      "source": [
        "for i in range(1):\n",
        "  print(i)\n",
        "type(i)"
      ],
      "metadata": {
        "id": "IL2b5HVfvL8V",
        "outputId": "df4d3b2f-1a25-408a-84bb-33a60eae6f8a",
        "colab": {
          "base_uri": "https://localhost:8080/"
        }
      },
      "execution_count": null,
      "outputs": [
        {
          "output_type": "stream",
          "name": "stdout",
          "text": [
            "0\n"
          ]
        },
        {
          "output_type": "execute_result",
          "data": {
            "text/plain": [
              "int"
            ]
          },
          "metadata": {},
          "execution_count": 5
        }
      ]
    },
    {
      "cell_type": "code",
      "source": [
        "for i in range(4):\n",
        "  print(i)\n",
        "type(i)"
      ],
      "metadata": {
        "id": "25ob4FkUvdnh",
        "outputId": "7ec6efdf-5aae-48c8-b3fe-1ef96680c5c9",
        "colab": {
          "base_uri": "https://localhost:8080/"
        }
      },
      "execution_count": null,
      "outputs": [
        {
          "output_type": "stream",
          "name": "stdout",
          "text": [
            "0\n",
            "1\n",
            "2\n",
            "3\n"
          ]
        },
        {
          "output_type": "execute_result",
          "data": {
            "text/plain": [
              "int"
            ]
          },
          "metadata": {},
          "execution_count": 7
        }
      ]
    },
    {
      "cell_type": "code",
      "source": [
        "for i in range(1):\n",
        "  print (i)\n",
        "\n",
        "type(i)"
      ],
      "metadata": {
        "id": "0EEhWrh3nNih",
        "outputId": "7581d04d-6b08-4a26-da00-285c62484ac9",
        "colab": {
          "base_uri": "https://localhost:8080/"
        }
      },
      "execution_count": null,
      "outputs": [
        {
          "output_type": "stream",
          "name": "stdout",
          "text": [
            "0\n"
          ]
        },
        {
          "output_type": "execute_result",
          "data": {
            "text/plain": [
              "int"
            ]
          },
          "metadata": {},
          "execution_count": 6
        }
      ]
    },
    {
      "cell_type": "code",
      "source": [
        "for x in range(3):\n",
        "  print(x)\n",
        "\n",
        "type(x)"
      ],
      "metadata": {
        "colab": {
          "base_uri": "https://localhost:8080/"
        },
        "id": "0GKYmOluIMA8",
        "outputId": "7e9197f3-6dff-4d6f-dad4-633bb6de6c4b"
      },
      "execution_count": null,
      "outputs": [
        {
          "output_type": "stream",
          "name": "stdout",
          "text": [
            "0\n",
            "1\n",
            "2\n"
          ]
        },
        {
          "output_type": "execute_result",
          "data": {
            "text/plain": [
              "int"
            ]
          },
          "metadata": {},
          "execution_count": 5
        }
      ]
    },
    {
      "cell_type": "code",
      "source": [
        "for s in range(10):\n",
        "  print(s)\n",
        "type(s)"
      ],
      "metadata": {
        "id": "cJ04l0JMxHFV",
        "outputId": "90710e42-4db1-4f26-aa18-9e6a39ea7f0c",
        "colab": {
          "base_uri": "https://localhost:8080/"
        }
      },
      "execution_count": null,
      "outputs": [
        {
          "output_type": "stream",
          "name": "stdout",
          "text": [
            "0\n",
            "1\n",
            "2\n",
            "3\n",
            "4\n",
            "5\n",
            "6\n",
            "7\n",
            "8\n",
            "9\n"
          ]
        },
        {
          "output_type": "execute_result",
          "data": {
            "text/plain": [
              "int"
            ]
          },
          "metadata": {},
          "execution_count": 7
        }
      ]
    },
    {
      "cell_type": "code",
      "source": [
        "for y in range(10):\n",
        "  print(y)\n",
        "\n",
        "type(y)"
      ],
      "metadata": {
        "colab": {
          "base_uri": "https://localhost:8080/"
        },
        "id": "SbwO-_rjvdgr",
        "outputId": "0de3b352-f142-4549-ac54-16038e3325e6"
      },
      "execution_count": null,
      "outputs": [
        {
          "output_type": "stream",
          "name": "stdout",
          "text": [
            "0\n",
            "1\n",
            "2\n",
            "3\n",
            "4\n",
            "5\n",
            "6\n",
            "7\n",
            "8\n",
            "9\n"
          ]
        },
        {
          "output_type": "execute_result",
          "data": {
            "text/plain": [
              "int"
            ]
          },
          "metadata": {},
          "execution_count": 7
        }
      ]
    },
    {
      "cell_type": "code",
      "source": [
        "for y in range(10):\n",
        "  print(y)\n",
        "\n",
        "type(y)"
      ],
      "metadata": {
        "colab": {
          "base_uri": "https://localhost:8080/"
        },
        "id": "hyWzFaQLI7y_",
        "outputId": "61e62640-8590-4676-81f9-63e863e1d0dc"
      },
      "execution_count": null,
      "outputs": [
        {
          "output_type": "stream",
          "name": "stdout",
          "text": [
            "0\n",
            "1\n",
            "2\n",
            "3\n",
            "4\n",
            "5\n",
            "6\n",
            "7\n",
            "8\n",
            "9\n"
          ]
        },
        {
          "output_type": "execute_result",
          "data": {
            "text/plain": [
              "int"
            ]
          },
          "metadata": {},
          "execution_count": 9
        }
      ]
    },
    {
      "cell_type": "code",
      "source": [
        "var='0123456789'\n",
        "len(var)"
      ],
      "metadata": {
        "colab": {
          "base_uri": "https://localhost:8080/"
        },
        "id": "CrEr-aqBwNoc",
        "outputId": "148aa921-9f7a-4938-c301-04950d452b2d"
      },
      "execution_count": null,
      "outputs": [
        {
          "output_type": "execute_result",
          "data": {
            "text/plain": [
              "10"
            ]
          },
          "metadata": {},
          "execution_count": 10
        }
      ]
    },
    {
      "cell_type": "code",
      "source": [
        "var='0123456789'\n",
        "len(var)"
      ],
      "metadata": {
        "id": "MS3V9pvgZHHF",
        "outputId": "f7d567fe-6783-473a-ff98-008553df8595",
        "colab": {
          "base_uri": "https://localhost:8080/"
        }
      },
      "execution_count": null,
      "outputs": [
        {
          "output_type": "execute_result",
          "data": {
            "text/plain": [
              "10"
            ]
          },
          "metadata": {},
          "execution_count": 7
        }
      ]
    },
    {
      "cell_type": "code",
      "source": [
        "var='0123456789'\n",
        "len(var)"
      ],
      "metadata": {
        "id": "7OYJQcJ5L_We",
        "outputId": "e6c3beb5-0465-4aa6-fe24-d091ef3b2c69",
        "colab": {
          "base_uri": "https://localhost:8080/"
        }
      },
      "execution_count": null,
      "outputs": [
        {
          "output_type": "execute_result",
          "data": {
            "text/plain": [
              "10"
            ]
          },
          "metadata": {},
          "execution_count": 11
        }
      ]
    },
    {
      "cell_type": "code",
      "source": [
        "var='012345678910'\n",
        "len(var)"
      ],
      "metadata": {
        "id": "HvfG3xodxQef",
        "outputId": "76b064ec-7dc2-4b1b-f30a-6375b233447e",
        "colab": {
          "base_uri": "https://localhost:8080/"
        }
      },
      "execution_count": null,
      "outputs": [
        {
          "output_type": "execute_result",
          "data": {
            "text/plain": [
              "12"
            ]
          },
          "metadata": {},
          "execution_count": 8
        }
      ]
    },
    {
      "cell_type": "code",
      "source": [
        "var='01234567891011'\n",
        "len(var)"
      ],
      "metadata": {
        "id": "bl8HNUgtxZZl",
        "outputId": "728934f3-7b10-4509-d1be-72602c56ead2",
        "colab": {
          "base_uri": "https://localhost:8080/"
        }
      },
      "execution_count": null,
      "outputs": [
        {
          "output_type": "execute_result",
          "data": {
            "text/plain": [
              "14"
            ]
          },
          "metadata": {},
          "execution_count": 9
        }
      ]
    },
    {
      "cell_type": "code",
      "source": [
        "var='0123456789'\n",
        "len(var)"
      ],
      "metadata": {
        "id": "DbELhRtxvn0s",
        "outputId": "a9f32d80-cc37-41cc-a015-7f44297ca829",
        "colab": {
          "base_uri": "https://localhost:8080/"
        }
      },
      "execution_count": null,
      "outputs": [
        {
          "output_type": "execute_result",
          "data": {
            "text/plain": [
              "10"
            ]
          },
          "metadata": {},
          "execution_count": 8
        }
      ]
    },
    {
      "cell_type": "code",
      "source": [
        "var='012345'\n",
        "len(var)"
      ],
      "metadata": {
        "id": "jYjfEZ_FvusJ",
        "outputId": "156dcbe1-99db-4757-fd76-1b12fd9f4e6e",
        "colab": {
          "base_uri": "https://localhost:8080/"
        }
      },
      "execution_count": null,
      "outputs": [
        {
          "output_type": "execute_result",
          "data": {
            "text/plain": [
              "6"
            ]
          },
          "metadata": {},
          "execution_count": 9
        }
      ]
    },
    {
      "cell_type": "code",
      "source": [
        "for z in range(0):\n",
        "  print(z)\n"
      ],
      "metadata": {
        "id": "IX8D_nOMv3fL"
      },
      "execution_count": null,
      "outputs": []
    },
    {
      "cell_type": "code",
      "source": [
        "for z in range(0):\n",
        "  print(z)"
      ],
      "metadata": {
        "id": "y04VZ2HsZOie"
      },
      "execution_count": null,
      "outputs": []
    },
    {
      "cell_type": "code",
      "source": [
        "for z in range(0):\n",
        "  print(z)"
      ],
      "metadata": {
        "id": "b1QeTocWv1j0"
      },
      "execution_count": null,
      "outputs": []
    },
    {
      "cell_type": "code",
      "source": [
        "for z in range(0):\n",
        "  print(z)\n",
        "\n",
        "#type(y) #NameError: name 'y' is not defined"
      ],
      "metadata": {
        "id": "-k9JKHlmIZEk"
      },
      "execution_count": null,
      "outputs": []
    },
    {
      "cell_type": "code",
      "source": [
        "list_fruit=['apple','banana','grape','pear','mango']\n",
        "for i in list_fruit:\n",
        "  print(i)"
      ],
      "metadata": {
        "id": "5qz_EleGzgkM",
        "outputId": "c636b948-1782-46ef-ce3e-46704265a4ee",
        "colab": {
          "base_uri": "https://localhost:8080/"
        }
      },
      "execution_count": null,
      "outputs": [
        {
          "output_type": "stream",
          "name": "stdout",
          "text": [
            "apple\n",
            "banana\n",
            "grape\n",
            "pear\n",
            "mango\n"
          ]
        }
      ]
    },
    {
      "cell_type": "code",
      "source": [
        "list_fruit=['apple','banana','grape','pear','mango']\n",
        "for i in list_fruit:\n",
        "  print(i)"
      ],
      "metadata": {
        "id": "Nb5YHpwkZTOL",
        "outputId": "4437a689-fa6e-4de3-d87d-7d226ce6b1b8",
        "colab": {
          "base_uri": "https://localhost:8080/"
        }
      },
      "execution_count": null,
      "outputs": [
        {
          "output_type": "stream",
          "name": "stdout",
          "text": [
            "apple\n",
            "banana\n",
            "grape\n",
            "pear\n",
            "mango\n"
          ]
        }
      ]
    },
    {
      "cell_type": "code",
      "source": [
        "list_fruit=['apple','banana','grape','pear','mango']\n",
        "for i in list_fruit:\n",
        "  print(i)"
      ],
      "metadata": {
        "id": "T8zU4eKQMHnF",
        "outputId": "7b2fb896-64c2-4ba9-8b38-a23a9fe99e71",
        "colab": {
          "base_uri": "https://localhost:8080/"
        }
      },
      "execution_count": null,
      "outputs": [
        {
          "output_type": "stream",
          "name": "stdout",
          "text": [
            "apple\n",
            "banana\n",
            "grape\n",
            "pear\n",
            "mango\n"
          ]
        }
      ]
    },
    {
      "cell_type": "code",
      "source": [
        "list_fruit=['apple','banana','grape','pear','mango']\n",
        "for i in list_fruit:\n",
        "  print(i)"
      ],
      "metadata": {
        "id": "T042E-ECxibE",
        "outputId": "52c1fe96-7a71-45e6-911a-db9b092a2622",
        "colab": {
          "base_uri": "https://localhost:8080/"
        }
      },
      "execution_count": null,
      "outputs": [
        {
          "output_type": "stream",
          "name": "stdout",
          "text": [
            "apple\n",
            "banana\n",
            "grape\n",
            "pear\n",
            "mango\n"
          ]
        }
      ]
    },
    {
      "cell_type": "code",
      "source": [
        "list_fruit=['apple','banana','grape','pear']\n",
        "for i in list_fruit:\n",
        "  print(i)"
      ],
      "metadata": {
        "id": "UpPOR9rqv9up",
        "outputId": "80e639aa-20d7-49bd-b7c8-35ac73fbc490",
        "colab": {
          "base_uri": "https://localhost:8080/"
        }
      },
      "execution_count": null,
      "outputs": [
        {
          "output_type": "stream",
          "name": "stdout",
          "text": [
            "apple\n",
            "banana\n",
            "grape\n",
            "pear\n"
          ]
        }
      ]
    },
    {
      "cell_type": "code",
      "source": [
        "list_fruit = [\"apple\", \"banana\", \"grape\", \"strawberry\", \"pear\", \"mango\"]\n",
        "\n",
        "for i in list_fruit:\n",
        "  print(i)"
      ],
      "metadata": {
        "id": "n-UaDN7R3aCF",
        "outputId": "59be757e-8dd9-4a02-d132-ac456378b0e9",
        "colab": {
          "base_uri": "https://localhost:8080/"
        }
      },
      "execution_count": null,
      "outputs": [
        {
          "output_type": "stream",
          "name": "stdout",
          "text": [
            "apple\n",
            "banana\n",
            "grape\n",
            "strawberry\n",
            "pear\n",
            "mango\n"
          ]
        }
      ]
    },
    {
      "cell_type": "code",
      "source": [
        "string='abcde'\n",
        "for c in string:\n",
        "  print(c)"
      ],
      "metadata": {
        "id": "3t8otfhtz8PD",
        "outputId": "1cac6e70-9bc0-42df-a34c-b4a67f2f0ea1",
        "colab": {
          "base_uri": "https://localhost:8080/"
        }
      },
      "execution_count": null,
      "outputs": [
        {
          "output_type": "stream",
          "name": "stdout",
          "text": [
            "a\n",
            "b\n",
            "c\n",
            "d\n",
            "e\n"
          ]
        }
      ]
    },
    {
      "cell_type": "code",
      "source": [
        "string='abcde'\n",
        "for i in string:\n",
        "  print(i)"
      ],
      "metadata": {
        "id": "0B-XsisTZhLu",
        "outputId": "0fe28c82-f3e4-43bd-9be9-98a50602702b",
        "colab": {
          "base_uri": "https://localhost:8080/"
        }
      },
      "execution_count": null,
      "outputs": [
        {
          "output_type": "stream",
          "name": "stdout",
          "text": [
            "a\n",
            "b\n",
            "c\n",
            "d\n",
            "e\n"
          ]
        }
      ]
    },
    {
      "cell_type": "code",
      "source": [
        "string='abcde'\n",
        "for i in string:\n",
        "  print(i)"
      ],
      "metadata": {
        "id": "WNFqH6twx0VZ",
        "outputId": "70ffe147-31ab-4e2a-bdd9-d7b145c478df",
        "colab": {
          "base_uri": "https://localhost:8080/"
        }
      },
      "execution_count": null,
      "outputs": [
        {
          "output_type": "stream",
          "name": "stdout",
          "text": [
            "a\n",
            "b\n",
            "c\n",
            "d\n",
            "e\n"
          ]
        }
      ]
    },
    {
      "cell_type": "code",
      "source": [
        "string='abcde'\n",
        "for i in string:\n",
        "  print(i)"
      ],
      "metadata": {
        "id": "kGdTk3F2Mctk",
        "outputId": "d7485f0c-9fc2-452b-f0f3-3fe3b4d18ec6",
        "colab": {
          "base_uri": "https://localhost:8080/"
        }
      },
      "execution_count": null,
      "outputs": [
        {
          "output_type": "stream",
          "name": "stdout",
          "text": [
            "a\n",
            "b\n",
            "c\n",
            "d\n",
            "e\n"
          ]
        }
      ]
    },
    {
      "cell_type": "code",
      "source": [
        "string='abcde'\n",
        "for c in string:\n",
        "  print(c)"
      ],
      "metadata": {
        "id": "dBCSMi_vwOtI",
        "outputId": "5174382c-9df0-443a-a3a9-91c7f7e40cb6",
        "colab": {
          "base_uri": "https://localhost:8080/"
        }
      },
      "execution_count": null,
      "outputs": [
        {
          "output_type": "stream",
          "name": "stdout",
          "text": [
            "a\n",
            "b\n",
            "c\n",
            "d\n",
            "e\n"
          ]
        }
      ]
    },
    {
      "cell_type": "code",
      "source": [
        "string ='abcde'\n",
        "\n",
        "for c in string:\n",
        "  print(c)"
      ],
      "metadata": {
        "id": "d9PHvLnFPXJb",
        "outputId": "5394e0c6-7bcc-4f66-d1cb-d3a60fd64823",
        "colab": {
          "base_uri": "https://localhost:8080/"
        }
      },
      "execution_count": null,
      "outputs": [
        {
          "output_type": "stream",
          "name": "stdout",
          "text": [
            "a\n",
            "b\n",
            "c\n",
            "d\n",
            "e\n"
          ]
        }
      ]
    },
    {
      "cell_type": "code",
      "source": [
        "list_int = [1,2,3,4,5]\n",
        "\n",
        "for c in list_int:\n",
        "  print(c)\n"
      ],
      "metadata": {
        "id": "kn__PpXL0HB3",
        "outputId": "96a55d98-2780-4a0a-a45c-b9eb8e4538f6",
        "colab": {
          "base_uri": "https://localhost:8080/"
        }
      },
      "execution_count": null,
      "outputs": [
        {
          "output_type": "stream",
          "name": "stdout",
          "text": [
            "1\n",
            "2\n",
            "3\n",
            "4\n",
            "5\n"
          ]
        }
      ]
    },
    {
      "cell_type": "code",
      "source": [
        "list_int=[1,2,3,4,5]\n",
        "for i in list_int:\n",
        "  print(i)"
      ],
      "metadata": {
        "id": "UX2AbIynMl7I",
        "outputId": "e17dbf4f-9d9e-4e5d-c701-5030ef9e6d94",
        "colab": {
          "base_uri": "https://localhost:8080/"
        }
      },
      "execution_count": null,
      "outputs": [
        {
          "output_type": "stream",
          "name": "stdout",
          "text": [
            "1\n",
            "2\n",
            "3\n",
            "4\n",
            "5\n"
          ]
        }
      ]
    },
    {
      "cell_type": "code",
      "source": [
        "list_int=[1,2,3,4,5]\n",
        "for i in list_int:\n",
        "  print(i)"
      ],
      "metadata": {
        "id": "kyacx-07Znvp",
        "outputId": "5c356ab9-90da-43eb-f239-a05b5205071e",
        "colab": {
          "base_uri": "https://localhost:8080/"
        }
      },
      "execution_count": null,
      "outputs": [
        {
          "output_type": "stream",
          "name": "stdout",
          "text": [
            "1\n",
            "2\n",
            "3\n",
            "4\n",
            "5\n"
          ]
        }
      ]
    },
    {
      "cell_type": "code",
      "source": [
        "list_int=[1,2,3,4,5]\n",
        "for i in list_int:\n",
        "  print(i)"
      ],
      "metadata": {
        "id": "x7AT_jGXx7CE",
        "outputId": "df2294b0-d263-4ac9-d5ab-7df38aa68326",
        "colab": {
          "base_uri": "https://localhost:8080/"
        }
      },
      "execution_count": null,
      "outputs": [
        {
          "output_type": "stream",
          "name": "stdout",
          "text": [
            "1\n",
            "2\n",
            "3\n",
            "4\n",
            "5\n"
          ]
        }
      ]
    },
    {
      "cell_type": "code",
      "source": [
        "list_int=[1,2,3,4,5]\n",
        "for a in list_int:\n",
        "  print(a)"
      ],
      "metadata": {
        "id": "N4eOxWaBwXqt",
        "outputId": "4bce2012-d1a8-4bc1-924d-19ed3fc132eb",
        "colab": {
          "base_uri": "https://localhost:8080/"
        }
      },
      "execution_count": null,
      "outputs": [
        {
          "output_type": "stream",
          "name": "stdout",
          "text": [
            "1\n",
            "2\n",
            "3\n",
            "4\n",
            "5\n"
          ]
        }
      ]
    },
    {
      "cell_type": "code",
      "source": [
        "list_int=[1,2,3,4,5]\n",
        "\n",
        "for c in list_int:\n",
        "  print(c)\n",
        "\n",
        "print(list_int[0])\n",
        "print([0])"
      ],
      "metadata": {
        "id": "x40chKbr0r0s",
        "outputId": "12ad9665-e8a2-45ee-cacd-1da020e07f2c",
        "colab": {
          "base_uri": "https://localhost:8080/"
        }
      },
      "execution_count": null,
      "outputs": [
        {
          "output_type": "stream",
          "name": "stdout",
          "text": [
            "1\n",
            "2\n",
            "3\n",
            "4\n",
            "5\n",
            "1\n",
            "[0]\n"
          ]
        }
      ]
    },
    {
      "cell_type": "code",
      "source": [
        "list_int = [1,2,3,4,5]\n",
        "\n",
        "for c in list_int:\n",
        "  print(c)"
      ],
      "metadata": {
        "id": "OkVfgB8RQNTW",
        "outputId": "79c79224-5e6d-4d28-b910-84fd76f3931a",
        "colab": {
          "base_uri": "https://localhost:8080/"
        }
      },
      "execution_count": null,
      "outputs": [
        {
          "output_type": "stream",
          "name": "stdout",
          "text": [
            "1\n",
            "2\n",
            "3\n",
            "4\n",
            "5\n",
            "1\n",
            "[0]\n"
          ]
        }
      ]
    },
    {
      "cell_type": "code",
      "source": [
        "#@markdown 💊 **Compare!**\n",
        "print(list_int[0])\n",
        "print([0])"
      ],
      "metadata": {
        "id": "ghvxdKMUKyXj",
        "outputId": "f2c2e1bc-96db-4f35-e822-3e53dbee3905",
        "colab": {
          "base_uri": "https://localhost:8080/"
        }
      },
      "execution_count": null,
      "outputs": [
        {
          "output_type": "stream",
          "name": "stdout",
          "text": [
            "1\n",
            "[0]\n"
          ]
        }
      ]
    },
    {
      "cell_type": "code",
      "source": [
        "print(list_int[0])\n",
        "print([0])"
      ],
      "metadata": {
        "id": "BTxLWd-IZvHl",
        "outputId": "a2183fa1-9417-4c00-d6ea-a71be965a46d",
        "colab": {
          "base_uri": "https://localhost:8080/"
        }
      },
      "execution_count": null,
      "outputs": [
        {
          "output_type": "stream",
          "name": "stdout",
          "text": [
            "1\n",
            "[0]\n"
          ]
        }
      ]
    },
    {
      "cell_type": "code",
      "source": [
        "print(list_int[0])\n",
        "print([0])"
      ],
      "metadata": {
        "id": "oyHLtxdnwg0c",
        "outputId": "720936ea-e206-4078-901c-ba0cde727260",
        "colab": {
          "base_uri": "https://localhost:8080/"
        }
      },
      "execution_count": null,
      "outputs": [
        {
          "output_type": "stream",
          "name": "stdout",
          "text": [
            "1\n",
            "[0]\n"
          ]
        }
      ]
    },
    {
      "cell_type": "code",
      "source": [
        "print(list_int[2])\n",
        "print([2])"
      ],
      "metadata": {
        "id": "bpfhIh58Mx4K",
        "outputId": "adf61e92-708e-49bd-8b80-2cad09b551f4",
        "colab": {
          "base_uri": "https://localhost:8080/"
        }
      },
      "execution_count": null,
      "outputs": [
        {
          "output_type": "stream",
          "name": "stdout",
          "text": [
            "3\n",
            "[2]\n"
          ]
        }
      ]
    },
    {
      "cell_type": "code",
      "source": [
        "print(list_int[3])\n",
        "print([0])"
      ],
      "metadata": {
        "id": "9nd0T-3AyC_I",
        "outputId": "3778e550-a26c-45b0-c644-071b87c629a5",
        "colab": {
          "base_uri": "https://localhost:8080/"
        }
      },
      "execution_count": null,
      "outputs": [
        {
          "output_type": "stream",
          "name": "stdout",
          "text": [
            "4\n",
            "[0]\n"
          ]
        }
      ]
    },
    {
      "cell_type": "code",
      "source": [
        "dict1 = {'a':97, 'b':98, 'c':99}\n",
        "\n",
        "for i in dict1:\n",
        "  print(i)"
      ],
      "metadata": {
        "id": "rQ3TOnzFQVLH",
        "outputId": "b89ddafe-2f62-4142-d2e6-1b420019ce33",
        "colab": {
          "base_uri": "https://localhost:8080/"
        }
      },
      "execution_count": null,
      "outputs": [
        {
          "output_type": "stream",
          "name": "stdout",
          "text": [
            "a\n",
            "b\n",
            "c\n"
          ]
        }
      ]
    },
    {
      "cell_type": "code",
      "source": [
        "dict1={'a':100,'b':200,'c':300}\n",
        "for i in dict1:\n",
        "  print(i)"
      ],
      "metadata": {
        "id": "Nhj7UK_JZ1jm",
        "outputId": "e78cd937-9e3a-4b94-c641-18263f156dd0",
        "colab": {
          "base_uri": "https://localhost:8080/"
        }
      },
      "execution_count": null,
      "outputs": [
        {
          "output_type": "stream",
          "name": "stdout",
          "text": [
            "a\n",
            "b\n",
            "c\n"
          ]
        }
      ]
    },
    {
      "cell_type": "code",
      "source": [
        "dict1={'a':100,'b':200,'c':300}\n",
        "for i in dict1:\n",
        "  print(i)\n"
      ],
      "metadata": {
        "id": "pHMV9YhqM5nG",
        "outputId": "aa6b7588-820d-43cc-df54-99e2f8e05279",
        "colab": {
          "base_uri": "https://localhost:8080/"
        }
      },
      "execution_count": null,
      "outputs": [
        {
          "output_type": "stream",
          "name": "stdout",
          "text": [
            "a\n",
            "b\n",
            "c\n"
          ]
        }
      ]
    },
    {
      "cell_type": "code",
      "source": [
        "dict1={'a':100,'b':200,'c':300}\n",
        "for i in dict1:\n",
        "  print(i)"
      ],
      "metadata": {
        "id": "5oNE48DeyM87",
        "outputId": "09e5a0ae-1f8a-4dd1-8ee7-0034bb5f532a",
        "colab": {
          "base_uri": "https://localhost:8080/"
        }
      },
      "execution_count": null,
      "outputs": [
        {
          "output_type": "stream",
          "name": "stdout",
          "text": [
            "a\n",
            "b\n",
            "c\n"
          ]
        }
      ]
    },
    {
      "cell_type": "code",
      "source": [
        "dict1={'a':97,'b':98,'c':99}\n",
        "for i in dict1:\n",
        "  print(i)"
      ],
      "metadata": {
        "id": "ntKJTxpLwrHm",
        "outputId": "d843a5b3-d846-4731-e41a-5c446e03cb65",
        "colab": {
          "base_uri": "https://localhost:8080/"
        }
      },
      "execution_count": null,
      "outputs": [
        {
          "output_type": "stream",
          "name": "stdout",
          "text": [
            "a\n",
            "b\n",
            "c\n"
          ]
        }
      ]
    },
    {
      "cell_type": "code",
      "source": [
        "dict1={'a':97,'b':98,'c':99}\n",
        "\n",
        "for i in dict1:\n",
        "  print(i)"
      ],
      "metadata": {
        "id": "GqH0kr4J1k1b",
        "outputId": "a6dbcb72-95b0-4c7c-b366-a98f445d8bfd",
        "colab": {
          "base_uri": "https://localhost:8080/"
        }
      },
      "execution_count": null,
      "outputs": [
        {
          "output_type": "stream",
          "name": "stdout",
          "text": [
            "a\n",
            "b\n",
            "c\n"
          ]
        }
      ]
    },
    {
      "cell_type": "code",
      "source": [
        "dict2 = {'a':100, 'b':200, 'c':300}\n",
        "\n",
        "for i in dict2:\n",
        "  print(i)"
      ],
      "metadata": {
        "colab": {
          "base_uri": "https://localhost:8080/"
        },
        "id": "tR_8K-_UNYX2",
        "outputId": "34dd54b2-43f8-4a88-e5dd-1077f47ebfc9"
      },
      "execution_count": null,
      "outputs": [
        {
          "output_type": "stream",
          "name": "stdout",
          "text": [
            "a\n",
            "b\n",
            "c\n"
          ]
        }
      ]
    },
    {
      "cell_type": "code",
      "source": [
        "dict2={'a':100,'b':200,'c':300}\n",
        "\n",
        "for i in dict2:\n",
        "  print(i)\n",
        "\n",
        "print(dict2['a'])\n",
        "list=[100,200,300]\n",
        "for y in list:\n",
        "  print(y)\n",
        "\n",
        "print(list[0])\n",
        "\n",
        "#print(dict2[0])"
      ],
      "metadata": {
        "id": "scbABC2F2VqU",
        "outputId": "304af90f-4e76-427b-a69a-37ef8826eecf",
        "colab": {
          "base_uri": "https://localhost:8080/"
        }
      },
      "execution_count": null,
      "outputs": [
        {
          "output_type": "stream",
          "name": "stdout",
          "text": [
            "a\n",
            "b\n",
            "c\n",
            "100\n",
            "100\n",
            "200\n",
            "300\n",
            "100\n"
          ]
        }
      ]
    },
    {
      "cell_type": "code",
      "source": [
        "dict2={'a':100,'b':200,'c':300}\n",
        "for i in dict2:\n",
        "  print(i)\n",
        "print(dict2['a'])\n",
        "list=[100,200,300]\n",
        "for s in list:\n",
        "  print(s)\n",
        "\n"
      ],
      "metadata": {
        "id": "JcIfdBJTaCmy",
        "outputId": "4363e5f2-b949-4451-84b8-60c47f41d716",
        "colab": {
          "base_uri": "https://localhost:8080/"
        }
      },
      "execution_count": null,
      "outputs": [
        {
          "output_type": "stream",
          "name": "stdout",
          "text": [
            "a\n",
            "b\n",
            "c\n",
            "100\n",
            "100\n",
            "200\n",
            "300\n"
          ]
        }
      ]
    },
    {
      "cell_type": "code",
      "source": [
        "dict2={'a':100,'b':200,'c':300}\n",
        "for i in dict2:\n",
        "  print(i)\n",
        "print(dict2['a'])\n",
        "list=[100,200,300]\n",
        "for y in list:\n",
        "  print(y)\n",
        "print(list[0])\n"
      ],
      "metadata": {
        "id": "BqsmCcf8NGmW",
        "outputId": "b80a6803-5ed5-441d-ef57-79822db3322b",
        "colab": {
          "base_uri": "https://localhost:8080/"
        }
      },
      "execution_count": null,
      "outputs": [
        {
          "output_type": "stream",
          "name": "stdout",
          "text": [
            "a\n",
            "b\n",
            "c\n",
            "100\n",
            "100\n",
            "200\n",
            "300\n",
            "100\n"
          ]
        }
      ]
    },
    {
      "cell_type": "code",
      "source": [
        "dict2={'a':100,'b':200,'c':300}\n",
        "for i in dict2:\n",
        "  print(i)\n",
        "print(dict['a'])\n",
        "list=[100,200,300]\n",
        "for x in list:\n",
        "  print(x)"
      ],
      "metadata": {
        "id": "CvPrbbujyY_N",
        "outputId": "45bbd1f6-885e-4d62-9a49-f7fe12ca719d",
        "colab": {
          "base_uri": "https://localhost:8080/"
        }
      },
      "execution_count": null,
      "outputs": [
        {
          "output_type": "stream",
          "name": "stdout",
          "text": [
            "a\n",
            "b\n",
            "c\n",
            "100\n",
            "100\n",
            "200\n",
            "300\n"
          ]
        }
      ]
    },
    {
      "cell_type": "code",
      "source": [
        "dict2={'a':100,'b':200,'c':300}\n",
        "for i in dict2:\n",
        "  print(i)\n",
        "\n",
        "print(dict2['a'])\n",
        "list=[100,200,300]\n",
        "for y in list:\n",
        "  print(y)"
      ],
      "metadata": {
        "id": "TZuInbLtw8Qv",
        "outputId": "0a017edb-da71-4630-aa36-9755c91f81d8",
        "colab": {
          "base_uri": "https://localhost:8080/"
        }
      },
      "execution_count": null,
      "outputs": [
        {
          "output_type": "stream",
          "name": "stdout",
          "text": [
            "a\n",
            "b\n",
            "c\n",
            "100\n",
            "100\n",
            "200\n",
            "300\n"
          ]
        }
      ]
    },
    {
      "cell_type": "code",
      "source": [
        "#@markdown 💊 **Compare between print(dictionary['a']) & print(['a']) to print a value, not a key.**\n",
        "\n",
        "print(dict2['a'])\n",
        "print(['a'])"
      ],
      "metadata": {
        "id": "PicaMEUyLEBw",
        "outputId": "312e9a20-d30f-45f1-d5fc-51d92006220d",
        "colab": {
          "base_uri": "https://localhost:8080/"
        }
      },
      "execution_count": null,
      "outputs": [
        {
          "output_type": "stream",
          "name": "stdout",
          "text": [
            "100\n",
            "['a']\n"
          ]
        }
      ]
    },
    {
      "cell_type": "code",
      "source": [
        "print(dict2['a'])\n",
        "print(['a'])"
      ],
      "metadata": {
        "id": "rMuMZCIJag-Y",
        "outputId": "3f9599f1-bc54-48db-9d94-bd1922dd68b4",
        "colab": {
          "base_uri": "https://localhost:8080/"
        }
      },
      "execution_count": null,
      "outputs": [
        {
          "output_type": "stream",
          "name": "stdout",
          "text": [
            "100\n",
            "['a']\n"
          ]
        }
      ]
    },
    {
      "cell_type": "code",
      "source": [
        "print(dict2['a'])\n",
        "print(['a'])"
      ],
      "metadata": {
        "id": "YaC5VoCbNfUY",
        "outputId": "91ff658c-34bf-46ee-a567-c85b0cab9f7b",
        "colab": {
          "base_uri": "https://localhost:8080/"
        }
      },
      "execution_count": null,
      "outputs": [
        {
          "output_type": "stream",
          "name": "stdout",
          "text": [
            "100\n",
            "['a']\n"
          ]
        }
      ]
    },
    {
      "cell_type": "code",
      "source": [
        "print(dict2['a'])\n",
        "print(['a'])"
      ],
      "metadata": {
        "id": "7q-vTQbKy4qp",
        "outputId": "7902390b-98e6-4de1-a591-ce2935bebf5c",
        "colab": {
          "base_uri": "https://localhost:8080/"
        }
      },
      "execution_count": null,
      "outputs": [
        {
          "output_type": "stream",
          "name": "stdout",
          "text": [
            "100\n",
            "['a']\n"
          ]
        }
      ]
    },
    {
      "cell_type": "code",
      "source": [
        "print(dict2['a'])\n",
        "print(['a'])"
      ],
      "metadata": {
        "id": "FlxXQcLvxdSd",
        "outputId": "90906023-c171-4e2f-8735-6ef5ad7b9c01",
        "colab": {
          "base_uri": "https://localhost:8080/"
        }
      },
      "execution_count": null,
      "outputs": [
        {
          "output_type": "stream",
          "name": "stdout",
          "text": [
            "100\n",
            "['a']\n"
          ]
        }
      ]
    },
    {
      "cell_type": "code",
      "source": [
        "#@markdown 💣 <font color = 'red'>**Indeces are not compatible with dictionary-type data**\n",
        "\n",
        "print(dict2[0])"
      ],
      "metadata": {
        "id": "ecRnp5N7LcYX",
        "outputId": "9adf8b90-fe48-4033-b0ff-60f1b5ea1347",
        "colab": {
          "base_uri": "https://localhost:8080/",
          "height": 220
        }
      },
      "execution_count": null,
      "outputs": [
        {
          "output_type": "error",
          "ename": "KeyError",
          "evalue": "ignored",
          "traceback": [
            "\u001b[0;31m---------------------------------------------------------------------------\u001b[0m",
            "\u001b[0;31mKeyError\u001b[0m                                  Traceback (most recent call last)",
            "\u001b[0;32m<ipython-input-17-c3f626750e34>\u001b[0m in \u001b[0;36m<cell line: 3>\u001b[0;34m()\u001b[0m\n\u001b[1;32m      1\u001b[0m \u001b[0;31m#@markdown 💣 <font color = 'red'>**Indeces are not compatible with dictionary-type data**\u001b[0m\u001b[0;34m\u001b[0m\u001b[0;34m\u001b[0m\u001b[0m\n\u001b[1;32m      2\u001b[0m \u001b[0;34m\u001b[0m\u001b[0m\n\u001b[0;32m----> 3\u001b[0;31m \u001b[0mprint\u001b[0m\u001b[0;34m(\u001b[0m\u001b[0mdict2\u001b[0m\u001b[0;34m[\u001b[0m\u001b[0;36m0\u001b[0m\u001b[0;34m]\u001b[0m\u001b[0;34m)\u001b[0m\u001b[0;34m\u001b[0m\u001b[0;34m\u001b[0m\u001b[0m\n\u001b[0m",
            "\u001b[0;31mKeyError\u001b[0m: 0"
          ]
        }
      ]
    },
    {
      "cell_type": "code",
      "source": [
        "for c in range(10):\n",
        "  print(c)"
      ],
      "metadata": {
        "id": "1_rjDUvqQpDk",
        "outputId": "1e15eb2c-1338-488a-ca46-d64515f67404",
        "colab": {
          "base_uri": "https://localhost:8080/"
        }
      },
      "execution_count": null,
      "outputs": [
        {
          "output_type": "stream",
          "name": "stdout",
          "text": [
            "0\n",
            "1\n",
            "2\n",
            "3\n",
            "4\n",
            "5\n",
            "6\n",
            "7\n",
            "8\n",
            "9\n"
          ]
        }
      ]
    },
    {
      "cell_type": "markdown",
      "source": [
        "# 🅱️  FOR ~: IF ~: CONTINUE... ELSE: BREAK\n",
        "\n",
        "    for 구성요소 혹은 아래 코드라인 변수 in 범위:\n",
        "      ...\n",
        "      continue    # 다음 반복문 수행\n",
        "      ...\n",
        "      break       # for 반복문 탈출"
      ],
      "metadata": {
        "id": "t3GvOWsWQ1bi"
      }
    },
    {
      "cell_type": "code",
      "source": [
        "scope=[1,2,3,4,5]\n",
        "for i in scope:\n",
        "  print(i)\n",
        "  if i<3:\n",
        "    continue\n",
        "  else:\n",
        "    break"
      ],
      "metadata": {
        "id": "_0FxuQEM4Qa2",
        "outputId": "84d96ed7-71e4-4511-e0ed-3e3515669f22",
        "colab": {
          "base_uri": "https://localhost:8080/"
        }
      },
      "execution_count": null,
      "outputs": [
        {
          "output_type": "stream",
          "name": "stdout",
          "text": [
            "1\n",
            "2\n",
            "3\n"
          ]
        }
      ]
    },
    {
      "cell_type": "code",
      "source": [
        "scope=[1,2,3,4,5]\n",
        "for i in scope:\n",
        "  print(i)\n",
        "  if i<2:\n",
        "    continue\n",
        "  else:\n",
        "    break"
      ],
      "metadata": {
        "id": "0144IgH3eKRh",
        "outputId": "dc86525b-549c-4b5c-9481-98e14ca51144",
        "colab": {
          "base_uri": "https://localhost:8080/"
        }
      },
      "execution_count": 1,
      "outputs": [
        {
          "output_type": "stream",
          "name": "stdout",
          "text": [
            "1\n",
            "2\n"
          ]
        }
      ]
    },
    {
      "cell_type": "code",
      "source": [
        "scope=[1,2,3,4,5]\n",
        "for i in scope:\n",
        "  print(i)\n",
        "  if i<3:\n",
        "    continue\n",
        "  else:\n",
        "    break"
      ],
      "metadata": {
        "id": "MH_7_r8IardS",
        "outputId": "0b05d35f-37bf-4118-bdc2-4034c3c8b39a",
        "colab": {
          "base_uri": "https://localhost:8080/"
        }
      },
      "execution_count": null,
      "outputs": [
        {
          "output_type": "stream",
          "name": "stdout",
          "text": [
            "1\n",
            "2\n",
            "3\n"
          ]
        }
      ]
    },
    {
      "cell_type": "code",
      "source": [
        "scope2=[1,2,3,4,5,6,7,8,9,10,11]\n",
        "for i in scope2:\n",
        "  print(i)\n",
        "  if i<10:\n",
        "    continue\n",
        "  else:\n",
        "    break"
      ],
      "metadata": {
        "id": "ECXF2tsj5CRG",
        "outputId": "d668b71f-9fc8-4f76-e312-7b307ee83165",
        "colab": {
          "base_uri": "https://localhost:8080/"
        }
      },
      "execution_count": null,
      "outputs": [
        {
          "output_type": "stream",
          "name": "stdout",
          "text": [
            "1\n",
            "2\n",
            "3\n",
            "4\n",
            "5\n",
            "6\n",
            "7\n",
            "8\n",
            "9\n",
            "10\n"
          ]
        }
      ]
    },
    {
      "cell_type": "code",
      "source": [
        "scope=[1,2,3,4,5]\n",
        "\n",
        "for i in scope:\n",
        "  print(i)        #화면에 해당 정수를 출력한 후 그 수가 3 보다 작으면 그 다음 숫자를 출력하고, 3 보다 크거나 같으면 종료\n",
        "  if i<3:\n",
        "    continue      # 이 경우 continue 없이도 코드라인 작성 가능\n",
        "  else:\n",
        "    break"
      ],
      "metadata": {
        "id": "dlwhZZ_oRQaQ",
        "outputId": "df411d76-475b-4d8f-b6b3-1e509e48a8f8",
        "colab": {
          "base_uri": "https://localhost:8080/"
        }
      },
      "execution_count": null,
      "outputs": [
        {
          "output_type": "stream",
          "name": "stdout",
          "text": [
            "1\n",
            "2\n",
            "3\n"
          ]
        }
      ]
    },
    {
      "cell_type": "markdown",
      "source": [
        "#🅾️ FOR ~: ELSE ~:\n",
        "\n",
        "    for 변수 in 범위:\n",
        "      반복 실행 코드\n",
        "    else:       \n",
        "      for 구문이 모두 실행되었을 때 실행할 코드"
      ],
      "metadata": {
        "id": "znGW0EEdS7Qq"
      }
    },
    {
      "cell_type": "code",
      "source": [
        "scope=[1,2,3,4,5]\n",
        "for x in scope:\n",
        "  print(x)\n",
        "else:\n",
        "  print('Perfect')"
      ],
      "metadata": {
        "id": "Y98aVOd05lKj",
        "outputId": "d0f469c5-5b9a-4ba5-b5e7-dd5937cde355",
        "colab": {
          "base_uri": "https://localhost:8080/"
        }
      },
      "execution_count": null,
      "outputs": [
        {
          "output_type": "stream",
          "name": "stdout",
          "text": [
            "1\n",
            "2\n",
            "3\n",
            "4\n",
            "5\n",
            "Perfect\n"
          ]
        }
      ]
    },
    {
      "cell_type": "code",
      "source": [
        "scope = [1,2,3,4,5]\n",
        "\n",
        "for x in scope:\n",
        "  print(x)\n",
        "else:                 #반복문이 break에 의해 중단됨 없이 정상적으로 모두 실행되어야만 특정 코드 실행할 경우 FOR ~ ELSE 사용\n",
        "  print('Perfect')\n",
        "\n",
        "                      #파이썬200제에는 print (x) 다음에 break 코드라인이 있는데, 이것은 원소가 범위에 있을 때 결과를 보여주는게 1 개 밖에 안된다. 실수로 넣은 코드라인으로 보인다. 이 예제는 아래에 따로 코드라인을 작성했다.\n"
      ],
      "metadata": {
        "id": "hQ3XN0KKTXvh",
        "outputId": "91ffae41-5b80-4d00-a325-42538495bb87",
        "colab": {
          "base_uri": "https://localhost:8080/"
        }
      },
      "execution_count": null,
      "outputs": [
        {
          "output_type": "stream",
          "name": "stdout",
          "text": [
            "1\n",
            "2\n",
            "3\n",
            "4\n",
            "5\n",
            "Perfect\n"
          ]
        }
      ]
    },
    {
      "cell_type": "markdown",
      "source": [
        "# 💊 **Compare!**"
      ],
      "metadata": {
        "id": "UGZKjbMuQIct"
      }
    },
    {
      "cell_type": "code",
      "source": [
        "#@markdown 💀 IT seems an imperfect example from 파이썬200제.\n",
        "list = [1,2,3]\n",
        "for i in list:\n",
        "  print(i)\n",
        "  break ##파이썬200제에는 print (x) 다음에 break 코드라인이 있는데, 이것은 요소가 범위에 있을 때 결과를 보여주는게 1 개 밖에 안된다. 실수로 넣은 코드라인으로 보인다.\n",
        "else:\n",
        "  print('Perfect')\n"
      ],
      "metadata": {
        "id": "dHBVuZaLeigp",
        "outputId": "cdc33a08-0eb4-4b38-8c32-f9fe7a17807a",
        "colab": {
          "base_uri": "https://localhost:8080/"
        }
      },
      "execution_count": null,
      "outputs": [
        {
          "output_type": "stream",
          "name": "stdout",
          "text": [
            "1\n"
          ]
        }
      ]
    }
  ]
}